{
 "cells": [
  {
   "cell_type": "code",
   "execution_count": 1,
   "metadata": {},
   "outputs": [],
   "source": [
    "import requests\n",
    "from bs4 import BeautifulSoup\n"
   ]
  },
  {
   "cell_type": "code",
   "execution_count": 2,
   "metadata": {},
   "outputs": [],
   "source": [
    "def get_soup(url, params = None, headers = None):\n",
    "    response = requests.get(url, params = params,\n",
    "                            headers = headers)\n",
    "    soup = BeautifulSoup(response.content, \"html.parser\")\n",
    "    return soup"
   ]
  },
  {
   "cell_type": "code",
   "execution_count": 77,
   "metadata": {},
   "outputs": [],
   "source": [
    "def get_info_from_annuncio(annuncio):\n",
    "    title = annuncio.find(\"a\", class_ = \"in-reListCard__title\").text\n",
    "    price = annuncio.find(\"div\", class_ = \"in-reListCardPrice\").text\n",
    "    infos = annuncio.find_all(\"div\", class_ = \"in-reListCardFeatureList__item\")\n",
    "    infos_text = [info.text for info in infos]\n",
    "    res = {\"title\" : title, \"price\" : price, \"infos\":infos_text}\n",
    "    return res\n",
    "\n",
    "def get_immobiliare_info(url, params = None, headers = None):\n",
    "    soup = get_soup(url, params= params, headers= headers)\n",
    "    terreni = soup.find_all(\"div\", class_ = \"nd-mediaObject__content\")\n",
    "    res = []\n",
    "    for i,terreno in enumerate(terreni):\n",
    "        res.append(get_info_from_annuncio(terreno))\n",
    "    return res"
   ]
  },
  {
   "cell_type": "code",
   "execution_count": 78,
   "metadata": {},
   "outputs": [],
   "source": [
    "url = \"https://www.immobiliare.it/vendita-terreni/lombardia/?criterio=rilevanza&superficieMinima=20000\"\n",
    "items = get_immobiliare_info(url)"
   ]
  },
  {
   "cell_type": "code",
   "execution_count": 79,
   "metadata": {},
   "outputs": [
    {
     "data": {
      "text/plain": [
       "[{'title': 'Terreno edificabile via Strada Nuova 22, Codevilla',\n",
       "  'price': '€ 1.400.000',\n",
       "  'infos': ['24.000 m²']},\n",
       " {'title': 'Terreno agricolo via Virgilio 30, Prestino, Como',\n",
       "  'price': '€ 195.000',\n",
       "  'infos': ['58.000 m²']},\n",
       " {'title': \"Terreno agricolo all'asta via Del Gregge, Lonate Pozzolo\",\n",
       "  'price': 'da € 40.000,00',\n",
       "  'infos': ['5 locali', '195.000 m²']},\n",
       " {'title': 'Terreno edificabile Cascina Cassinazza, Pantigliate',\n",
       "  'price': '€ 557.550',\n",
       "  'infos': ['35.998 m²']},\n",
       " {'title': 'Terreno edificabile via Lavagnone, Lonato del Garda',\n",
       "  'price': 'Prezzo su richiesta',\n",
       "  'infos': ['26.000 m²']},\n",
       " {'title': \"Terreno residenziale all'asta via Papa Paolo VI,   snc, Abbiategrasso\",\n",
       "  'price': 'da € 263.529,00',\n",
       "  'infos': ['1 locale', '19/06/2024', '25.300 m²']},\n",
       " {'title': 'Terreno agricolo via Case Sparse, Casalmaggiore',\n",
       "  'price': '€ 720.000',\n",
       "  'infos': ['75.880 m²']},\n",
       " {'title': 'Terreno agricolo frazione Quarantina, Centro, Rogno',\n",
       "  'price': '€ 12.861',\n",
       "  'infos': ['70.570 m²']},\n",
       " {'title': 'Terreno edificabile, Gavardo Sopraponte, Gavardo',\n",
       "  'price': '€ 395.000',\n",
       "  'infos': ['202.575 m²']},\n",
       " {'title': 'Terreno agricolo Castello di San Vigilio, Rogno',\n",
       "  'price': '€ 6.946',\n",
       "  'infos': ['31.475 m²']},\n",
       " {'title': 'Terreno edificabile via delle Industrie, Salvirola',\n",
       "  'price': 'Prezzo su richiesta',\n",
       "  'infos': ['32.119 m²']},\n",
       " {'title': 'Terreno edificabile Sp35, Costa di Mezzate',\n",
       "  'price': 'Prezzo su richiesta',\n",
       "  'infos': ['42.500 m²']},\n",
       " {'title': 'Terreno agricolo via Giuseppina 87, Solarolo Rainerio',\n",
       "  'price': '€ 90.000',\n",
       "  'infos': ['22.336 m²']},\n",
       " {'title': 'Terreno edificabile via Pietro Mascagni, Centro, Cologno Monzese',\n",
       "  'price': 'Prezzo su richiesta',\n",
       "  'infos': ['27.000 m²']},\n",
       " {'title': 'Terreno agricolo, San Martino della Battaglia, Desenzano del Garda',\n",
       "  'price': '€ 1.170.000',\n",
       "  'infos': ['43.000 m²']},\n",
       " {'title': 'Terreno non edificabile Località Solaroli, Chignolo Po',\n",
       "  'price': 'Prezzo su richiesta',\n",
       "  'infos': ['80.000 m²']},\n",
       " {'title': 'Terreno agricolo Strada dei Colli Nord, Volta Mantovana',\n",
       "  'price': '€ 128.000',\n",
       "  'infos': ['22.550 m²']},\n",
       " {'title': 'Terreno agricolo Strada per Volta Mantovana, Volta Mantovana',\n",
       "  'price': '€ 240.000',\n",
       "  'infos': ['48.000 m²']},\n",
       " {'title': 'Terreno edificabile via XX Settembre, Serle',\n",
       "  'price': '€ 330.000',\n",
       "  'infos': ['25.500 m²']},\n",
       " {'title': 'Terreno edificabile via Trieste, Soiano, Soiano del Lago',\n",
       "  'price': '€ 2.690.000',\n",
       "  'infos': ['28.000 m²']},\n",
       " {'title': 'Terreno agricolo vicolo delle Fontane, Manerba del Garda',\n",
       "  'price': '€ 850.000',\n",
       "  'infos': ['21.000 m²']},\n",
       " {'title': 'Terreno agricolo via La Costa, Fornaci, Briosco',\n",
       "  'price': '€ 260.000',\n",
       "  'infos': ['37.500 m²']},\n",
       " {'title': 'Terreno agricolo via Santo Stefano, Rodengo Saiano',\n",
       "  'price': '€ 50.000',\n",
       "  'infos': ['48.000 m²']},\n",
       " {'title': 'Terreno edificabile via SP9, Dello',\n",
       "  'price': '€ 5.000.000',\n",
       "  'infos': ['50.000 m²']},\n",
       " {'title': 'Terreno edificabile via Milano, Rovato',\n",
       "  'price': '€ 2.100.000',\n",
       "  'infos': ['30.000 m²']}]"
      ]
     },
     "execution_count": 79,
     "metadata": {},
     "output_type": "execute_result"
    }
   ],
   "source": [
    "items"
   ]
  }
 ],
 "metadata": {
  "kernelspec": {
   "display_name": "base",
   "language": "python",
   "name": "python3"
  },
  "language_info": {
   "codemirror_mode": {
    "name": "ipython",
    "version": 3
   },
   "file_extension": ".py",
   "mimetype": "text/x-python",
   "name": "python",
   "nbconvert_exporter": "python",
   "pygments_lexer": "ipython3",
   "version": "3.11.7"
  }
 },
 "nbformat": 4,
 "nbformat_minor": 2
}
