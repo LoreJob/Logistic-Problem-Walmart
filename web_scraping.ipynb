{
 "cells": [
  {
   "cell_type": "code",
   "execution_count": 1,
   "metadata": {},
   "outputs": [],
   "source": [
    "import requests\n",
    "from bs4 import BeautifulSoup\n",
    "import time\n",
    "import pandas as pd\n",
    "import re"
   ]
  },
  {
   "cell_type": "code",
   "execution_count": 2,
   "metadata": {},
   "outputs": [],
   "source": [
    "def get_soup(url, params=None, headers=None):\n",
    "   response = requests.get(url, params=params, headers=headers)\n",
    "   soup = BeautifulSoup(response.content, \"html.parser\")\n",
    "   return soup"
   ]
  },
  {
   "cell_type": "code",
   "execution_count": 3,
   "metadata": {},
   "outputs": [
    {
     "name": "stdout",
     "output_type": "stream",
     "text": [
      "{'area': '961.572 m²', 'location': 'Terreno edificabile via della Madonnina, Centro, Bernareggio'}\n"
     ]
    }
   ],
   "source": [
    "import requests\n",
    "from bs4 import BeautifulSoup\n",
    "\n",
    "def get_immobiliare_info(url):\n",
    "    response = requests.get(url)\n",
    "\n",
    "    if response.status_code == 200:\n",
    "        soup = BeautifulSoup(response.content, \"html.parser\")\n",
    "\n",
    "        area_element = soup.find('div', class_='in-reListCardFeatureList__item')\n",
    "        if area_element:\n",
    "            area_span = area_element.find('span')\n",
    "            area = area_span.text.strip() if area_span else None\n",
    "        else:\n",
    "            area = None\n",
    "\n",
    "        location_element = soup.find('a', class_='in-reListCard__title')\n",
    "        location = location_element.text.strip() if location_element else None\n",
    "\n",
    "        return {\n",
    "            \"area\" : area,\n",
    "            \"location\": location\n",
    "        }\n",
    "    else:\n",
    "        print(\"Failed to retrieve the page. Status code:\", response.status_code)\n",
    "        return None\n",
    "\n",
    "url = 'https://www.immobiliare.it/vendita-terreni/lombardia/?criterio=rilevanza&superficieMinima=20000&idTipologia=107'\n",
    "info = get_immobiliare_info(url)\n",
    "if info:\n",
    "    print(info)\n"
   ]
  },
  {
   "cell_type": "code",
   "execution_count": 5,
   "metadata": {},
   "outputs": [
    {
     "name": "stdout",
     "output_type": "stream",
     "text": [
      "{'area': '961.572 m²', 'location': 'Terreno edificabile via della Madonnina, Centro, Bernareggio'}\n",
      "{'area': '24.000 m²', 'location': 'Terreno edificabile via Strada Nuova 22, Codevilla'}\n",
      "{'area': '58.000 m²', 'location': 'Terreno agricolo via Virgilio 30, Prestino, Como'}\n",
      "{'area': None, 'location': \"Terreno agricolo all'asta via Del Gregge, Lonate Pozzolo\"}\n",
      "{'area': '195.000 m²', 'location': 'Terreno edificabile Cascina Cassinazza, Pantigliate'}\n",
      "{'area': '35.998 m²', 'location': 'Terreno edificabile via Lavagnone, Lonato del Garda'}\n",
      "{'area': '26.000 m²', 'location': \"Terreno residenziale all'asta via Papa Paolo VI,   snc, Abbiategrasso\"}\n",
      "{'area': None, 'location': 'Terreno agricolo via Case Sparse, Casalmaggiore'}\n",
      "{'area': None, 'location': 'Terreno agricolo frazione Quarantina, Centro, Rogno'}\n",
      "{'area': '25.300 m²', 'location': 'Terreno edificabile, Gavardo Sopraponte, Gavardo'}\n",
      "{'area': '75.880 m²', 'location': 'Terreno agricolo Castello di San Vigilio, Rogno'}\n",
      "{'area': '70.570 m²', 'location': 'Terreno edificabile via delle Industrie, Salvirola'}\n",
      "{'area': '202.575 m²', 'location': 'Terreno edificabile Sp35, Costa di Mezzate'}\n",
      "{'area': '31.475 m²', 'location': 'Terreno agricolo via Giuseppina 87, Solarolo Rainerio'}\n",
      "{'area': '32.119 m²', 'location': 'Terreno edificabile via Pietro Mascagni, Centro, Cologno Monzese'}\n",
      "{'area': '42.500 m²', 'location': 'Terreno agricolo, San Martino della Battaglia, Desenzano del Garda'}\n",
      "{'area': '22.336 m²', 'location': 'Terreno non edificabile Località Solaroli, Chignolo Po'}\n",
      "{'area': '27.000 m²', 'location': 'Terreno agricolo Strada dei Colli Nord, Volta Mantovana'}\n",
      "{'area': '43.000 m²', 'location': 'Terreno agricolo Strada per Volta Mantovana, Volta Mantovana'}\n",
      "{'area': '80.000 m²', 'location': 'Terreno edificabile via XX Settembre, Serle'}\n",
      "{'area': '22.550 m²', 'location': 'Terreno edificabile via Trieste, Soiano, Soiano del Lago'}\n",
      "{'area': '48.000 m²', 'location': 'Terreno agricolo vicolo delle Fontane, Manerba del Garda'}\n",
      "{'area': '25.500 m²', 'location': 'Terreno agricolo via La Costa, Fornaci, Briosco'}\n",
      "{'area': '28.000 m²', 'location': 'Terreno agricolo via Santo Stefano, Rodengo Saiano'}\n",
      "{'area': '21.000 m²', 'location': 'Terreno edificabile via SP9, Dello'}\n"
     ]
    }
   ],
   "source": [
    "import requests\n",
    "from bs4 import BeautifulSoup\n",
    "\n",
    "all_area_element = list()\n",
    "\n",
    "def get_immobiliare_info(url):\n",
    "    response = requests.get(url)\n",
    "\n",
    "    if response.status_code == 200:\n",
    "        soup = BeautifulSoup(response.content, \"html.parser\")\n",
    "\n",
    "        area_elements = soup.find_all('div', class_='in-reListCardFeatureList__item')\n",
    "        areas = [area_element.find('span').text.strip() \n",
    "                 if (area_element.find('span') and \"m\" in area_element.find('span').text.strip()) else None \n",
    "                 for area_element in area_elements]\n",
    "\n",
    "        location_elements = soup.find_all('a', class_='in-reListCard__title')\n",
    "        locations = [location_element.text.strip() if location_element else None for location_element in location_elements]\n",
    "\n",
    "        results = []\n",
    "        for area, location in zip(areas, locations):\n",
    "            results.append({\"area\": area, \"location\": location})\n",
    "        all_area_element.extend(areas)\n",
    "        return results\n",
    "    else:\n",
    "        print(\"Failed to retrieve the page. Status code:\", response.status_code)\n",
    "        return None\n",
    "\n",
    "url = 'https://www.immobiliare.it/vendita-terreni/lombardia/?criterio=rilevanza&superficieMinima=20000'\n",
    "infos = get_immobiliare_info(url)\n",
    "if infos:\n",
    "    for info in infos:\n",
    "        print(info)\n"
   ]
  },
  {
   "cell_type": "code",
   "execution_count": null,
   "metadata": {},
   "outputs": [],
   "source": []
  }
 ],
 "metadata": {
  "kernelspec": {
   "display_name": "Python 3",
   "language": "python",
   "name": "python3"
  },
  "language_info": {
   "codemirror_mode": {
    "name": "ipython",
    "version": 3
   },
   "file_extension": ".py",
   "mimetype": "text/x-python",
   "name": "python",
   "nbconvert_exporter": "python",
   "pygments_lexer": "ipython3",
   "version": "3.11.7"
  }
 },
 "nbformat": 4,
 "nbformat_minor": 2
}
