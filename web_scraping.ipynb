{
 "cells": [
  {
   "cell_type": "code",
   "execution_count": 1,
   "metadata": {},
   "outputs": [],
   "source": [
    "import requests\n",
    "from bs4 import BeautifulSoup\n",
    "import time\n",
    "import pandas as pd\n",
    "import re"
   ]
  },
  {
   "cell_type": "code",
   "execution_count": 2,
   "metadata": {},
   "outputs": [],
   "source": [
    "def get_soup(url, params=None, headers=None):\n",
    "   response = requests.get(url, params=params, headers=headers)\n",
    "   soup = BeautifulSoup(response.content, \"html.parser\")\n",
    "   return soup"
   ]
  },
  {
   "cell_type": "code",
   "execution_count": null,
   "metadata": {},
   "outputs": [
    {
     "ename": "",
     "evalue": "",
     "output_type": "error",
     "traceback": [
      "\u001b[1;31mThe Kernel crashed while executing code in the current cell or a previous cell. \n",
      "\u001b[1;31mPlease review the code in the cell(s) to identify a possible cause of the failure. \n",
      "\u001b[1;31mClick <a href='https://aka.ms/vscodeJupyterKernelCrash'>here</a> for more info. \n",
      "\u001b[1;31mView Jupyter <a href='command:jupyter.viewOutput'>log</a> for further details."
     ]
    }
   ],
   "source": [
    "def get_immobiliare_info(base_url):\n",
    "    results = []\n",
    "\n",
    "    for i in range(1, 33): \n",
    "        url = base_url.format(i)\n",
    "        response = requests.get(url)\n",
    "\n",
    "        if response.status_code == 200:\n",
    "            soup = BeautifulSoup(response.content, \"html.parser\")\n",
    "\n",
    "            announcement_elements = soup.find_all('div', class_='nd-mediaObject nd-mediaObject--colToRow in-reListCard')\n",
    "\n",
    "            for element in announcement_elements:\n",
    "\n",
    "                area_element = element.find('div', class_='in-reListCardFeatureList__item')\n",
    "                area = area_element.find('span').text.strip() if area_element else None\n",
    "\n",
    "                location_element = element.find('a', class_='in-reListCard__title')\n",
    "                location = location_element.text.strip() if location_element else None\n",
    "\n",
    "                price_element = element.find('div', class_='in-reListCardPrice')\n",
    "                price = price_element.find('span').text.strip() if price_element else None\n",
    "\n",
    "                results.append({\n",
    "                    \"area\": area,\n",
    "                    \"location\": location,\n",
    "                    \"price\": price\n",
    "                })\n",
    "\n",
    "        else:\n",
    "            print(\"Failed to retrieve the page:\", url)\n",
    "\n",
    "    return results\n",
    "\n",
    "base_url = 'https://www.immobiliare.it/vendita-terreni/lombardia/?criterio=rilevanza&superficieMinima=20000&pag={}'\n",
    "infos = get_immobiliare_info(base_url)\n",
    "if infos:\n",
    "    for info in infos:\n",
    "        print(info)\n"
   ]
  }
 ],
 "metadata": {
  "kernelspec": {
   "display_name": "Python 3",
   "language": "python",
   "name": "python3"
  },
  "language_info": {
   "codemirror_mode": {
    "name": "ipython",
    "version": 3
   },
   "file_extension": ".py",
   "mimetype": "text/x-python",
   "name": "python",
   "nbconvert_exporter": "python",
   "pygments_lexer": "ipython3",
   "version": "3.12.2"
  }
 },
 "nbformat": 4,
 "nbformat_minor": 2
}
