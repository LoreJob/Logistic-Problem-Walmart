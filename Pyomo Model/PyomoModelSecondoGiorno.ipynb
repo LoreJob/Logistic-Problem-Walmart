{
  "cells": [
    {
      "cell_type": "markdown",
      "metadata": {
        "id": "hgnqsOdN0Srm"
      },
      "source": [
        "# TESTING A DIFFERENT SOLVER"
      ]
    },
    {
      "cell_type": "code",
      "execution_count": 1,
      "metadata": {
        "id": "309CB80VlOYS"
      },
      "outputs": [],
      "source": [
        "%%capture\n",
        "import sys\n",
        "import os\n",
        "\n",
        "if 'google.colab' in sys.modules:\n",
        "    !pip install idaes-pse --pre\n",
        "    !idaes get-extensions --to ./bin\n",
        "    os.environ['PATH'] += ':bin'"
      ]
    },
    {
      "cell_type": "code",
      "execution_count": 2,
      "metadata": {
        "id": "kLPRgk3vBHW0"
      },
      "outputs": [],
      "source": [
        "import pandas as pd\n",
        "\n",
        "cost = pd.read_csv(\"cost_vector.csv\", index_col= 0 )\n",
        "ebitda = pd.read_csv(\"ebitda_matrix.csv\",index_col= 0)\n"
      ]
    },
    {
      "cell_type": "code",
      "execution_count": 3,
      "metadata": {
        "id": "7Y2nlc1yGVXa"
      },
      "outputs": [],
      "source": [
        "import pyomo.environ as pyo"
      ]
    },
    {
      "cell_type": "code",
      "execution_count": 6,
      "metadata": {
        "id": "K6ywfLw0BLSM"
      },
      "outputs": [],
      "source": [
        "model = pyo.ConcreteModel()\n",
        "\n",
        "num_y = cost.size\n",
        "\n",
        "num_rows = ebitda.shape[0]\n",
        "num_cols = ebitda.shape[1]\n",
        "\n",
        "# Create x\n",
        "model.rows = pyo.RangeSet(1,num_rows)\n",
        "model.cols = pyo.RangeSet(1,num_cols)\n",
        "\n",
        "# Define decision variables\n",
        "model.x = pyo.Var(model.rows, model.cols, within = pyo.Binary)\n",
        "model.y = pyo.Var(range(1, num_y + 1), within = pyo.Binary)\n",
        "\n",
        "# Define the objective function programmatically\n",
        "def profit_function(model):\n",
        "    # Calculate total cost\n",
        "    cost_total = sum(model.y[j] * cost.iloc[j - 1, 0] for j in range(1, num_y + 1))\n",
        "\n",
        "    # Calculate total EBITDA\n",
        "    ebitda_total = sum(model.y[j] * ebitda.iloc[i - 1, j - 1] * model.x[i, j] for i in model.rows for j in range(1, num_y + 1))\n",
        "\n",
        "    # Calculate profit\n",
        "    profit_total = ebitda_total - cost_total\n",
        "    return profit_total\n",
        "\n",
        "model.obj = pyo.Objective(rule = profit_function, sense = pyo.maximize)\n",
        "\n",
        "# Define constraints\n",
        "model.constraints = pyo.ConstraintList()\n",
        "for i in range(1,num_rows):\n",
        "    model.constraints.add(sum(model.x[i,j] for j in range(1,num_cols)) <= 1)\n"
      ]
    },
    {
      "cell_type": "code",
      "execution_count": null,
      "metadata": {
        "colab": {
          "base_uri": "https://localhost:8080/"
        },
        "id": "tVdpG7dxBL_Q",
        "outputId": "94b08ba3-f4e3-47d2-8e5b-4fc03c2522af"
      },
      "outputs": [
        {
          "name": "stdout",
          "output_type": "stream",
          "text": [
            "Bonmin 1.8.8 using Cbc 2.10.10 and Ipopt 3.13.2\n",
            "bonmin: \n",
            "\n",
            "******************************************************************************\n",
            "This program contains Ipopt, a library for large-scale nonlinear optimization.\n",
            " Ipopt is released as open source code under the Eclipse Public License (EPL).\n",
            "         For more information visit http://projects.coin-or.org/Ipopt\n",
            "\n",
            "This version of Ipopt was compiled from source code available at\n",
            "    https://github.com/IDAES/Ipopt as part of the Institute for the Design of\n",
            "    Advanced Energy Systems Process Systems Engineering Framework (IDAES PSE\n",
            "    Framework) Copyright (c) 2018-2019. See https://github.com/IDAES/idaes-pse.\n",
            "\n",
            "This version of Ipopt was compiled using HSL, a collection of Fortran codes\n",
            "    for large-scale scientific computation.  All technical papers, sales and\n",
            "    publicity material resulting from use of the HSL codes within IPOPT must\n",
            "    contain the following acknowledgement:\n",
            "        HSL, a collection of Fortran codes for large-scale scientific\n",
            "        computation. See http://www.hsl.rl.ac.uk.\n",
            "******************************************************************************\n",
            "\n",
            "NLP0012I \n",
            "              Num      Status      Obj             It       time                 Location\n",
            "NLP0014I             1         OPT -22.980855       18 10.280604\n",
            "NLP0012I \n",
            "              Num      Status      Obj             It       time                 Location\n",
            "NLP0014I             1         OPT -22.980529       17 9.286806\n",
            "NLP0014I             2         OPT -22.655836       14 9.356521\n",
            "NLP0014I             3         OPT -22.652366       14 9.295005\n",
            "NLP0014I             4         OPT -22.648813       14 7.921963\n",
            "NLP0014I             5         OPT -22.644404       14 9.4366\n",
            "NLP0014I             6         OPT -22.641129       14 9.006258\n",
            "NLP0014I             7         OPT -22.633198       13 8.124506\n",
            "NLP0014I             8         OPT -22.759388       15 8.680015\n",
            "NLP0014I             9         OPT -22.756291       15 9.391868\n",
            "NLP0014I            10         OPT -22.626335       13 8.638811\n",
            "NLP0014I            11         OPT -22.622675       13 8.372957\n",
            "NLP0014I            12         OPT -22.617067       13 8.717082\n",
            "NLP0014I            13         OPT -22.611082       13 8.601784\n",
            "NLP0014I            14         OPT -22.605441       14 8.555668\n",
            "NLP0014I            15         OPT -22.601688       14 9.477454\n",
            "NLP0014I            16         OPT -22.59033       12 8.146302\n",
            "NLP0014I            17         OPT -22.858737       16 8.698605\n",
            "NLP0014I            18         OPT -22.572865       14 9.56673\n",
            "NLP0014I            19         OPT -22.856383       18 10.307815\n",
            "NLP0014I            20         OPT -22.853405       18 9.832553\n",
            "NLP0012I \n",
            "              Num      Status      Obj             It       time                 Location\n",
            "NLP0014I            21         OPT -22.714462       17 9.56363\n",
            "NLP0014I            22         OPT -22.712792       17 9.517253\n",
            "NLP0014I            23         OPT -22.712303       17 9.969924\n",
            "NLP0014I            24         OPT -22.710484       16 9.446129\n",
            "NLP0014I            25         OPT -22.708985       16 8.541206\n",
            "NLP0014I            26         OPT -22.709358       16 9.477796\n",
            "NLP0014I            27         OPT -22.709778       16 9.60128\n",
            "NLP0014I            28         OPT -22.710237       16 9.106481\n",
            "NLP0014I            29         OPT -22.710787       16 8.435273\n",
            "NLP0014I            30         OPT -22.712303       17 10.014463\n",
            "NLP0014I            31         OPT -22.714744       17 9.582321\n",
            "NLP0014I            33         OPT -22.856762       17 9.315273\n",
            "NLP0014I            34         OPT -22.858468       17 10.058998\n",
            "NLP0014I            35         OPT -22.764731       12 7.354232\n",
            "NLP0014I            36         OPT -22.984535       14 7.838497\n",
            "NLP0014I            37         OPT -22.828481       13 8.475765\n",
            "NLP0014I            38         OPT -22.855597       13 7.979367\n",
            "NLP0014I            39         OPT -22.739132       15 8.2435\n",
            "NLP0014I            40         OPT -22.751573       15 10.048694\n",
            "NLP0012I \n",
            "              Num      Status      Obj             It       time                 Location\n",
            "NLP0014I            41         OPT -22.758816       15 9.126085\n",
            "NLP0014I            42         OPT -22.765179       15 8.673977\n",
            "NLP0014I            43         OPT -22.664991       11 7.839669\n",
            "NLP0014I            44         OPT -22.670115       11 7.995395\n",
            "NLP0014I            45         OPT -22.710078        9 6.432588\n",
            "NLP0014I            46         OPT -22.822754       11 7.583571\n",
            "NLP0014I            47         OPT -22.814758       10 6.564878\n",
            "NLP0014I            48         OPT -22.703968        8 6.955643\n",
            "NLP0014I            49         OPT -22.845175       14 8.257799\n",
            "NLP0014I            50         OPT -22.830438       16 8.415118\n",
            "NLP0014I            51         OPT -22.83754       16 8.89753\n",
            "NLP0014I            52         OPT -22.840875       16 8.963852\n",
            "NLP0014I            53         OPT -22.844347       16 8.20756\n",
            "NLP0014I            54         OPT -22.847327       16 9.198755\n",
            "NLP0014I            55         OPT -22.853745       16 8.901473\n",
            "NLP0014I            56         OPT -22.62482       12 6.969405\n",
            "NLP0014I            57         OPT -22.978614       15 8.748745\n",
            "NLP0014I            58         OPT -22.978622       15 8.605426\n",
            "NLP0014I            59         OPT -22.97863       15 7.968441\n",
            "NLP0014I            60         OPT -22.978639       15 8.968485\n",
            "NLP0012I \n",
            "              Num      Status      Obj             It       time                 Location\n",
            "NLP0014I            61         OPT -22.978648       15 8.66819\n",
            "NLP0014I            62         OPT -22.978659       15 8.31258\n",
            "NLP0014I            63         OPT -22.978669       15 8.940878\n",
            "NLP0014I            64         OPT -22.978679       15 8.719562\n",
            "NLP0014I            65         OPT -22.978689       15 7.900546\n",
            "NLP0014I            66         OPT -22.978699       15 9.130757\n",
            "NLP0014I            67         OPT -22.625487       12 9.700435\n",
            "NLP0014I            68         OPT -22.978718       15 7.756136\n",
            "NLP0014I            69         OPT -22.978705       15 9.023726\n",
            "NLP0014I            70         OPT -22.978715       15 8.737886\n",
            "NLP0014I            71         OPT -22.978725       15 8.221643\n",
            "NLP0014I            72         OPT -22.978735       15 9.533437\n",
            "NLP0014I            74         OPT -22.97876       15 8.055228\n",
            "NLP0014I            75         OPT -22.97877       15 9.086463\n",
            "NLP0014I            76         OPT -22.978757       15 8.649064\n",
            "NLP0014I            77         OPT -22.978768       15 8.167082\n",
            "NLP0014I            78         OPT -22.978756       15 9.178432\n",
            "NLP0014I            79         OPT -22.978766       15 8.877461\n",
            "NLP0014I            80         OPT -22.978776       15 8.439125\n",
            "NLP0012I \n",
            "              Num      Status      Obj             It       time                 Location\n",
            "NLP0014I            81         OPT -22.978764       15 8.705595\n",
            "NLP0014I            82         OPT -22.978774       15 8.546867\n",
            "NLP0014I            83         OPT -22.978784       15 8.345429\n",
            "NLP0014I            84         OPT -22.978794       15 9.182078\n",
            "NLP0014I            85         OPT -22.978804       15 8.83391\n",
            "NLP0014I            86         OPT -22.978814       15 8.482637\n",
            "NLP0014I            87         OPT -22.978824       15 8.507066\n",
            "NLP0014I            88         OPT -22.978834       15 8.970831\n",
            "NLP0014I            89         OPT -22.97883       15 8.951884\n",
            "NLP0014I            90         OPT -22.627904       12 7.329928\n",
            "NLP0014I            91         OPT -22.627968       12 7.975701\n",
            "NLP0014I            92         OPT -22.978859       15 8.214746\n",
            "NLP0014I            93         OPT -22.978869       15 9.059958\n",
            "NLP0014I            94         OPT -22.978904       15 8.534474\n",
            "NLP0014I            95         OPT -22.978914       15 8.263349\n",
            "NLP0014I            96         OPT -22.978924       15 8.390406\n",
            "NLP0014I            97         OPT -22.978934       15 8.752305\n",
            "NLP0014I            98         OPT -22.978944       15 8.257129\n",
            "NLP0014I            99         OPT -22.978954       15 8.653101\n",
            "NLP0014I           100         OPT -22.630449       12 8.158034\n",
            "NLP0012I \n",
            "              Num      Status      Obj             It       time                 Location\n",
            "NLP0014I           101         OPT -22.978999       15 8.408947\n",
            "NLP0014I           102         OPT -22.979009       15 8.947763\n",
            "NLP0014I           103         OPT -22.979045       15 9.27686\n",
            "NLP0014I           104         OPT -22.979081       15 8.822383\n",
            "NLP0014I           105         OPT -22.979118       15 8.230639\n",
            "NLP0014I           106         OPT -22.633778       12 8.57431\n",
            "NLP0014I           107         OPT -22.979137       15 8.981191\n",
            "NLP0014I           108         OPT -22.979146       15 8.189164\n",
            "NLP0014I           109         OPT -22.979156       15 9.409909\n",
            "NLP0014I           110         OPT -22.979166       15 8.769123\n",
            "NLP0014I           111         OPT -22.979176       15 8.253461\n",
            "NLP0014I           112         OPT -22.634152       12 8.25758\n",
            "NLP0014I           113         OPT -22.634212       12 7.898769\n",
            "NLP0014I           114         OPT -22.979205       15 8.087677\n",
            "NLP0014I           115         OPT -22.979242       15 9.228931\n",
            "NLP0014I           117         OPT -22.979301       15 8.527582\n",
            "NLP0014I           118         OPT -22.97934       15 10.875866\n",
            "NLP0014I           119         OPT -22.979379       15 11.545799\n",
            "NLP0014I           120         OPT -22.640061       12 9.928797\n",
            "NLP0012I \n",
            "              Num      Status      Obj             It       time                 Location\n",
            "NLP0014I           121         OPT -22.979429       15 12.487699\n",
            "NLP0014I           122         OPT -22.979469       15 11.853128\n",
            "NLP0014I           123         OPT -22.97951       15 10.260537\n",
            "NLP0014I           124         OPT -22.979527       15 11.3585\n",
            "NLP0014I           125         OPT -22.979537       15 10.078366\n",
            "NLP0014I           126         OPT -22.979547       15 10.810671\n",
            "NLP0014I           127         OPT -22.979557       15 11.084555\n",
            "NLP0014I           128         OPT -22.979598       15 9.984008\n",
            "NLP0014I           129         OPT -22.979608       15 11.505893\n",
            "NLP0014I           130         OPT -22.979617       15 11.732078\n",
            "NLP0014I           131         OPT -22.979659       15 10.809984\n",
            "NLP0014I           132         OPT -22.979702       15 13.65068\n",
            "NLP0014I           133         OPT -22.979712       15 10.56978\n",
            "NLP0014I           134         OPT -22.979721       15 10.375108\n",
            "NLP0014I           135         OPT -22.979764       15 10.020246\n",
            "NLP0014I           136         OPT -22.979774       15 10.430901\n",
            "NLP0014I           137         OPT -22.979818       15 9.506103\n",
            "NLP0014I           138         OPT -22.979828       15 8.998545\n",
            "NLP0014I           139         OPT -22.979838       15 10.22098\n",
            "NLP0014I           140         OPT -22.979847       15 10.786241\n",
            "NLP0012I \n",
            "              Num      Status      Obj             It       time                 Location\n",
            "NLP0014I           141         OPT -22.979857       15 10.949773\n",
            "NLP0014I           142         OPT -22.979867       15 10.4988\n",
            "NLP0014I           143         OPT -22.979876       15 8.010063\n",
            "NLP0014I           145         OPT -22.979896       15 8.662869\n",
            "NLP0014I           146         OPT -22.979906       15 8.188139\n",
            "NLP0014I           147         OPT -22.979916       15 9.070376\n",
            "NLP0014I           148         OPT -22.650911       13 8.206413\n",
            "NLP0014I           149         OPT -22.979971       15 8.139515\n",
            "NLP0014I           150         OPT -22.979981       15 8.976173\n",
            "NLP0014I           151         OPT -22.980027       15 8.550912\n",
            "NLP0014I           152         OPT -22.653694       13 7.423041\n",
            "NLP0014I           153         OPT -22.980084       15 8.686206\n",
            "NLP0014I           154         OPT -22.980132       15 8.75815\n",
            "NLP0014I           155         OPT -22.980141       15 7.853572\n",
            "NLP0014I           156         OPT -22.98015       15 8.79811\n",
            "NLP0014I           157         OPT -22.655278       13 7.85228\n",
            "NLP0014I           158         OPT -22.98017       15 7.744013\n",
            "NLP0014I           159         OPT -22.98018       15 8.775407\n",
            "NLP0014I           160         OPT -22.980131       15 8.652959\n",
            "NLP0012I \n",
            "              Num      Status      Obj             It       time                 Location\n",
            "NLP0014I           161         OPT -22.98014       15 7.634896\n",
            "NLP0014I           162         OPT -22.980091       15 8.906508\n",
            "NLP0014I           163         OPT -22.980101       15 8.394703\n",
            "NLP0014I           164         OPT -22.980112       15 7.94623\n",
            "NLP0014I           165         OPT -22.980122       15 9.201307\n",
            "NLP0014I           166         OPT -22.980171       15 8.890397\n",
            "NLP0014I           167         OPT -22.980181       15 8.299814\n"
          ]
        }
      ],
      "source": [
        "\n",
        "solver = pyo.SolverFactory('bonmin')\n",
        "# solver = pyo.SolverFactory('couenne') #one of these two algorithms\n",
        "results = solver.solve(model, tee = True)"
      ]
    },
    {
      "cell_type": "code",
      "execution_count": 20,
      "metadata": {
        "colab": {
          "base_uri": "https://localhost:8080/"
        },
        "id": "kgOrpS4DhvL4",
        "outputId": "04901c5b-a020-4357-c869-862a7b273c56"
      },
      "outputs": [
        {
          "data": {
            "text/plain": [
              "113025"
            ]
          },
          "execution_count": 20,
          "metadata": {},
          "output_type": "execute_result"
        }
      ],
      "source": [
        "ebitda.size + cost.size"
      ]
    }
  ],
  "metadata": {
    "colab": {
      "collapsed_sections": [
        "TXU3-dte0YnM"
      ],
      "provenance": []
    },
    "kernelspec": {
      "display_name": "Python 3",
      "name": "python3"
    },
    "language_info": {
      "name": "python"
    }
  },
  "nbformat": 4,
  "nbformat_minor": 0
}
