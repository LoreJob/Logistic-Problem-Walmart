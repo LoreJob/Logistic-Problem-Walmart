{
  "cells": [
    {
      "cell_type": "markdown",
      "metadata": {
        "id": "hgnqsOdN0Srm"
      },
      "source": [
        "# TESTING A DIFFERENT SOLVER"
      ]
    },
    {
      "cell_type": "code",
      "execution_count": 2,
      "metadata": {
        "id": "309CB80VlOYS"
      },
      "outputs": [],
      "source": [
        "%%capture\n",
        "import sys\n",
        "import os\n",
        "\n",
        "if 'google.colab' in sys.modules:\n",
        "    !pip install idaes-pse --pre\n",
        "    !idaes get-extensions --to ./bin\n",
        "    os.environ['PATH'] += ':bin'"
      ]
    },
    {
      "cell_type": "code",
      "execution_count": 1,
      "metadata": {
        "id": "kLPRgk3vBHW0"
      },
      "outputs": [],
      "source": [
        "import pandas as pd\n",
        "\n",
        "cost = pd.read_csv(\"cost_vector.csv\", index_col= 0 )\n",
        "ebitda = pd.read_csv(\"ebitda_matrix.csv\",index_col= 0)\n"
      ]
    },
    {
      "cell_type": "code",
      "execution_count": 2,
      "metadata": {
        "id": "VQOVQHXK1xea"
      },
      "outputs": [],
      "source": [
        "ebitda = ebitda * 20"
      ]
    },
    {
      "cell_type": "code",
      "execution_count": 3,
      "metadata": {
        "id": "7Y2nlc1yGVXa"
      },
      "outputs": [],
      "source": [
        "import pyomo.environ as pyo"
      ]
    },
    {
      "cell_type": "code",
      "execution_count": 6,
      "metadata": {
        "id": "K6ywfLw0BLSM"
      },
      "outputs": [],
      "source": [
        "model = pyo.ConcreteModel()\n",
        "\n",
        "num_y = cost.size\n",
        "\n",
        "num_rows = ebitda.shape[0]\n",
        "num_cols = ebitda.shape[1]\n",
        "\n",
        "# Create x\n",
        "model.rows = pyo.RangeSet(1,num_rows)\n",
        "model.cols = pyo.RangeSet(1,num_cols)\n",
        "\n",
        "# Define decision variables\n",
        "model.x = pyo.Var(model.rows, model.cols, within = pyo.Binary)\n",
        "model.y = pyo.Var(range(1, num_y + 1), within = pyo.Binary)\n",
        "\n",
        "# Define the objective function programmatically\n",
        "def profit_function(model):\n",
        "    # Calculate total cost\n",
        "    cost_total = sum(model.y[j] * cost.iloc[j - 1, 0] for j in range(1, num_y + 1))\n",
        "\n",
        "    # Calculate total EBITDA\n",
        "    # ebitda_total = sum(model.y[j] * ebitda.iloc[i - 1, j - 1] * model.x[i, j] for i in model.rows for j in range(1, num_y + 1))\n",
        "    ebitda_total = sum(model.y[j] * sum(ebitda.iloc[i-1, j-1] * model.x[i,j] for i in range(1, num_rows+1)) for j in range(1,num_y+1))\n",
        "    # Calculate profit\n",
        "    profit_total = ebitda_total - cost_total\n",
        "    return profit_total\n",
        "\n",
        "model.obj = pyo.Objective(rule = profit_function, sense = pyo.maximize)\n",
        "\n",
        "# Define constraints\n",
        "model.constraints = pyo.ConstraintList()\n",
        "for i in range(1,num_rows):\n",
        "    model.constraints.add(sum(model.x[i,j] for j in range(1,num_cols)) <= 1)\n",
        "\n",
        "model.constraints2 = pyo.ConstraintList()\n",
        "for i in range(1,num_rows):\n",
        "    for j in range(1,num_cols):\n",
        "        model.constraints2.add(model.x[i,j] <= model.y[j])\n",
        "\n",
        "\n",
        "# model.fixed_num_stores = pyo.Constraint(expr = sum(model.y[j]for j in range(1, num_y+1)) == 1)"
      ]
    },
    {
      "cell_type": "code",
      "execution_count": 7,
      "metadata": {},
      "outputs": [
        {
          "name": "stdout",
          "output_type": "stream",
          "text": [
            "\n",
            "Problem: \n",
            "- Lower bound: -inf\n",
            "  Upper bound: inf\n",
            "  Number of objectives: 1\n",
            "  Number of constraints: 0\n",
            "  Number of variables: 112946\n",
            "  Sense: unknown\n",
            "Solver: \n",
            "- Status: ok\n",
            "  Message: CPLEX 22.1.1.0\\x3a optimal integer solution; objective 6506809992.201092; 11002 MIP simplex iterations; 0 branch-and-bound nodes; absmipgap = 5.72205e-06, relmipgap = 8.79393e-16; No basis.\n",
            "  Termination condition: optimal\n",
            "  Id: 2\n",
            "Solution: \n",
            "- number of solutions: 0\n",
            "  number of solutions displayed: 0\n",
            "\n"
          ]
        }
      ],
      "source": [
        "import os \n",
        "\n",
        "os.environ['NEOS_EMAIL'] = 'obamba370@gmail.com'\n",
        "solver_manager = pyo.SolverManagerFactory('neos')\n",
        "instance = model.create_instance()\n",
        "results = solver_manager.solve(instance, opt='cplex', load_solutions=True)\n",
        "    # ['bonmin', 'cbc', 'conopt', 'couenne', 'cplex', 'filmint', 'filter', 'ipopt', 'knitro', 'l-bfgs-b', 'lancelot', 'lgo', 'loqo', 'minlp', 'minos', 'minto', 'mosek', 'octeract', 'ooqp', 'path', 'raposa', 'snopt']\n",
        "print(results)"
      ]
    },
    {
      "cell_type": "code",
      "execution_count": null,
      "metadata": {
        "colab": {
          "base_uri": "https://localhost:8080/"
        },
        "id": "tVdpG7dxBL_Q",
        "outputId": "4c5c25f3-4c90-4587-f0fb-cd2f403e507d"
      },
      "outputs": [
        {
          "name": "stdout",
          "output_type": "stream",
          "text": [
            "Couenne 0.5.8 -- an Open-Source solver for Mixed Integer Nonlinear Optimization\n",
            "Mailing list: couenne@list.coin-or.org\n",
            "Instructions: http://www.coin-or.org/Couenne\n",
            "couenne: \n",
            "ANALYSIS TEST: Reading problem: 0.2 seconds\n",
            "Reformulating problem: 1741.6 seconds\n"
          ]
        }
      ],
      "source": [
        "# solver = pyo.SolverFactory('bonmin')\n",
        "solver = pyo.SolverFactory('couenne')\n",
        "results = solver.solve(model, tee = True)"
      ]
    }
  ],
  "metadata": {
    "colab": {
      "collapsed_sections": [
        "TXU3-dte0YnM"
      ],
      "provenance": []
    },
    "kernelspec": {
      "display_name": "Python 3",
      "name": "python3"
    },
    "language_info": {
      "codemirror_mode": {
        "name": "ipython",
        "version": 3
      },
      "file_extension": ".py",
      "mimetype": "text/x-python",
      "name": "python",
      "nbconvert_exporter": "python",
      "pygments_lexer": "ipython3",
      "version": "3.12.2"
    }
  },
  "nbformat": 4,
  "nbformat_minor": 0
}
