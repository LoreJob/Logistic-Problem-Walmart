{
 "cells": [
  {
   "cell_type": "code",
   "execution_count": 1,
   "metadata": {},
   "outputs": [],
   "source": [
    "import requests\n",
    "from bs4 import BeautifulSoup\n",
    "import time\n",
    "import pandas as pd\n",
    "import re"
   ]
  },
  {
   "cell_type": "code",
   "execution_count": 2,
   "metadata": {},
   "outputs": [],
   "source": [
    "def get_soup(url, params=None, headers=None):\n",
    "   response = requests.get(url, params=params, headers=headers)\n",
    "   soup = BeautifulSoup(response.content, \"html.parser\")\n",
    "   return soup"
   ]
  },
  {
   "cell_type": "code",
   "execution_count": 16,
   "metadata": {},
   "outputs": [
    {
     "ename": "TypeError",
     "evalue": "'str' object cannot be interpreted as an integer",
     "output_type": "error",
     "traceback": [
      "\u001b[1;31m---------------------------------------------------------------------------\u001b[0m",
      "\u001b[1;31mTypeError\u001b[0m                                 Traceback (most recent call last)",
      "Cell \u001b[1;32mIn[16], line 36\u001b[0m\n\u001b[0;32m     33\u001b[0m     \u001b[38;5;28;01mreturn\u001b[39;00m results\n\u001b[0;32m     35\u001b[0m base_url \u001b[38;5;241m=\u001b[39m \u001b[38;5;124m'\u001b[39m\u001b[38;5;124mhttps://www.immobiliare.it/vendita-terreni/lombardia/?criterio=rilevanza&superficieMinima=20000&pag=\u001b[39m\u001b[38;5;132;01m{}\u001b[39;00m\u001b[38;5;124m'\u001b[39m\n\u001b[1;32m---> 36\u001b[0m infos \u001b[38;5;241m=\u001b[39m \u001b[43mget_immobiliare_info\u001b[49m\u001b[43m(\u001b[49m\u001b[43mbase_url\u001b[49m\u001b[43m)\u001b[49m\n\u001b[0;32m     37\u001b[0m \u001b[38;5;28;01mif\u001b[39;00m infos:\n\u001b[0;32m     38\u001b[0m     \u001b[38;5;28;01mfor\u001b[39;00m info \u001b[38;5;129;01min\u001b[39;00m infos:\n",
      "Cell \u001b[1;32mIn[16], line 4\u001b[0m, in \u001b[0;36mget_immobiliare_info\u001b[1;34m(base_url)\u001b[0m\n\u001b[0;32m      1\u001b[0m \u001b[38;5;28;01mdef\u001b[39;00m \u001b[38;5;21mget_immobiliare_info\u001b[39m(base_url):\n\u001b[0;32m      2\u001b[0m     results \u001b[38;5;241m=\u001b[39m []\n\u001b[1;32m----> 4\u001b[0m     \u001b[38;5;28;01mfor\u001b[39;00m i \u001b[38;5;129;01min\u001b[39;00m \u001b[38;5;28;43mrange\u001b[39;49m\u001b[43m(\u001b[49m\u001b[38;5;241;43m1\u001b[39;49m\u001b[43m,\u001b[49m\u001b[43m \u001b[49m\u001b[38;5;124;43m\"\u001b[39;49m\u001b[38;5;124;43min-pagination__item is-mobileHidden\u001b[39;49m\u001b[38;5;124;43m\"\u001b[39;49m\u001b[43m)\u001b[49m: \n\u001b[0;32m      5\u001b[0m         url \u001b[38;5;241m=\u001b[39m base_url\u001b[38;5;241m.\u001b[39mformat(i)\n\u001b[0;32m      6\u001b[0m         response \u001b[38;5;241m=\u001b[39m requests\u001b[38;5;241m.\u001b[39mget(url)\n",
      "\u001b[1;31mTypeError\u001b[0m: 'str' object cannot be interpreted as an integer"
     ]
    }
   ],
   "source": [
    "def get_immobiliare_info(base_url):\n",
    "    results = []\n",
    "\n",
    "    for i in range(1, #funzione giuse): \n",
    "        url = base_url.format(i)\n",
    "        response = requests.get(url)\n",
    "\n",
    "        if response.status_code == 200:\n",
    "            soup = BeautifulSoup(response.content, \"html.parser\")\n",
    "\n",
    "            announcement_elements = soup.find_all('div', class_='nd-mediaObject nd-mediaObject--colToRow in-reListCard')\n",
    "\n",
    "            for element in announcement_elements:\n",
    "\n",
    "                area_element = element.find('div', class_='in-reListCardFeatureList__item')\n",
    "                area = area_element.find('span').text.strip() if area_element else None\n",
    "\n",
    "                location_element = element.find('a', class_='in-reListCard__title')\n",
    "                location = location_element.text.strip() if location_element else None\n",
    "\n",
    "                price_element = element.find('div', class_='in-reListCardPrice')\n",
    "                price = price_element.find('span').text.strip() if price_element else None\n",
    "\n",
    "                results.append({\n",
    "                    \"area\": area,\n",
    "                    \"location\": location,\n",
    "                    \"price\": price\n",
    "                })\n",
    "\n",
    "        else:\n",
    "            print(\"Failed to retrieve the page:\", url)\n",
    "\n",
    "    return results\n",
    "\n",
    "base_url = 'https://www.immobiliare.it/vendita-terreni/lombardia/?criterio=rilevanza&superficieMinima=20000&pag={}'\n",
    "infos = get_immobiliare_info(base_url)\n",
    "if infos:\n",
    "    for info in infos:\n",
    "        print(info)\n"
   ]
  }
 ],
 "metadata": {
  "kernelspec": {
   "display_name": "Python 3",
   "language": "python",
   "name": "python3"
  },
  "language_info": {
   "codemirror_mode": {
    "name": "ipython",
    "version": 3
   },
   "file_extension": ".py",
   "mimetype": "text/x-python",
   "name": "python",
   "nbconvert_exporter": "python",
   "pygments_lexer": "ipython3",
   "version": "3.12.2"
  }
 },
 "nbformat": 4,
 "nbformat_minor": 2
}
