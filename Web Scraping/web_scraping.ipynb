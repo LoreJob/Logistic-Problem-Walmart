{
 "cells": [
  {
   "cell_type": "code",
   "execution_count": 1,
   "metadata": {},
   "outputs": [],
   "source": [
    "import requests\n",
    "from bs4 import BeautifulSoup\n"
   ]
  },
  {
   "cell_type": "code",
   "execution_count": 2,
   "metadata": {},
   "outputs": [],
   "source": [
    "def get_soup(url, params = None, headers = None):\n",
    "    response = requests.get(url, params = params,\n",
    "                            headers = headers)\n",
    "    soup = BeautifulSoup(response.content, \"html.parser\")\n",
    "    return soup\n",
    "\n",
    "def get_num_pages(url):\n",
    "    soup = get_soup(url)\n",
    "    pages = soup.find_all(\"div\", class_ = \"in-pagination__item\")\n",
    "    pages = [page.text for page in pages]\n",
    "    return int(pages[-1])"
   ]
  },
  {
   "cell_type": "code",
   "execution_count": 3,
   "metadata": {},
   "outputs": [],
   "source": [
    "def get_info_from_annuncio(annuncio):\n",
    "    title = annuncio.find(\"a\", class_ = \"in-reListCard__title\").text\n",
    "    price = annuncio.find(\"div\", class_ = \"in-reListCardPrice\").text\n",
    "    infos = annuncio.find_all(\"div\", class_ = \"in-reListCardFeatureList__item\")\n",
    "    infos_text = [info.text for info in infos]\n",
    "    res = {\"title\" : title, \"price\" : price, \"infos\":infos_text}\n",
    "    return res\n",
    "\n",
    "def get_immobiliare_info(url, params = None, headers = None):\n",
    "    soup = get_soup(url, params= params, headers= headers)\n",
    "    terreni = soup.find_all(\"div\", class_ = \"nd-mediaObject__content\")\n",
    "    res = []\n",
    "    for i,terreno in enumerate(terreni):\n",
    "        res.append(get_info_from_annuncio(terreno))\n",
    "    return res"
   ]
  },
  {
   "cell_type": "code",
   "execution_count": 7,
   "metadata": {},
   "outputs": [],
   "source": [
    "url = \"https://www.immobiliare.it/vendita-terreni/lombardia/?criterio=rilevanza&superficieMinima=20000&idTipologia=107\"\n",
    "url_with_page_num = \"https://www.immobiliare.it/vendita-terreni/lombardia/?criterio=rilevanza&superficieMinima=20000&idTipologia=107&pag={}\"\n",
    "num_pages = get_num_pages(url)\n",
    "items = list()\n",
    "for i in range(1,num_pages+1):\n",
    "    items.extend(get_immobiliare_info(url_with_page_num.format(i)))"
   ]
  },
  {
   "cell_type": "code",
   "execution_count": 8,
   "metadata": {},
   "outputs": [
    {
     "name": "stdout",
     "output_type": "stream",
     "text": [
      "334\n"
     ]
    },
    {
     "data": {
      "text/plain": [
       "[{'title': 'Terreno edificabile via Sanguinetto, Centro, Quistello',\n",
       "  'price': '€ 1.000',\n",
       "  'infos': ['66.200 m²']},\n",
       " {'title': 'Terreno edificabile Strada Bugno 27, Viadana',\n",
       "  'price': '€ 150.000',\n",
       "  'infos': ['28.000 m²']},\n",
       " {'title': 'Terreno edificabile via Antonio Gramsci 1, Centro, Busto Garolfo',\n",
       "  'price': '€ 1.350.000',\n",
       "  'infos': ['22.500 m²']},\n",
       " {'title': \"Terreno edificabile via Monte Grappa 11, Centro, Castel d'Ario\",\n",
       "  'price': '€ 950.000',\n",
       "  'infos': ['26.200 m²']},\n",
       " {'title': 'Terreno edificabile Contrada Molino, Zecchini, Castel Goffredo',\n",
       "  'price': '€ 2.578.050',\n",
       "  'infos': ['30.330 m²']},\n",
       " {'title': 'Terreno edificabile via Ferdinando Magellano 8, Casone, Marcallo con Casone',\n",
       "  'price': '€ 1.500.000',\n",
       "  'infos': ['35.650 m²']},\n",
       " {'title': 'Terreno edificabile via Achille Grandi, Busto Garolfo',\n",
       "  'price': 'Prezzo su richiesta',\n",
       "  'infos': ['22.470 m²']},\n",
       " {'title': 'Terreno edificabile Strada Provinciale Arosio Canzo, Castelmarte',\n",
       "  'price': '€ 1.111',\n",
       "  'infos': ['27.000 m²']},\n",
       " {'title': 'Terreno edificabile, Centro, Opera',\n",
       "  'price': '€ 6.000.000',\n",
       "  'infos': ['32.000 m²']},\n",
       " {'title': 'Terreno edificabile Strada Provinciale Goitese, Medole',\n",
       "  'price': '€ 1.950.000',\n",
       "  'infos': ['20.000 m²']}]"
      ]
     },
     "execution_count": 8,
     "metadata": {},
     "output_type": "execute_result"
    }
   ],
   "source": [
    "print(len(items))\n",
    "items[-10:]"
   ]
  }
 ],
 "metadata": {
  "kernelspec": {
   "display_name": "base",
   "language": "python",
   "name": "python3"
  },
  "language_info": {
   "codemirror_mode": {
    "name": "ipython",
    "version": 3
   },
   "file_extension": ".py",
   "mimetype": "text/x-python",
   "name": "python",
   "nbconvert_exporter": "python",
   "pygments_lexer": "ipython3",
   "version": "3.11.7"
  }
 },
 "nbformat": 4,
 "nbformat_minor": 2
}
