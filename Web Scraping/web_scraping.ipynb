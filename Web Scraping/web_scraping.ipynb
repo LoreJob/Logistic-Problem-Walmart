{
 "cells": [
  {
   "cell_type": "code",
   "execution_count": 1,
   "metadata": {},
   "outputs": [],
   "source": [
    "import requests\n",
    "from bs4 import BeautifulSoup\n"
   ]
  },
  {
   "cell_type": "code",
   "execution_count": 2,
   "metadata": {},
   "outputs": [],
   "source": [
    "def get_soup(url, params = None, headers = None):\n",
    "    response = requests.get(url, params = params,\n",
    "                            headers = headers)\n",
    "    soup = BeautifulSoup(response.content, \"html.parser\")\n",
    "    return soup\n",
    "\n",
    "def get_num_pages(url):\n",
    "    soup = get_soup(url)\n",
    "    pages_div = soup.find_all(\"div\", class_ = \"in-pagination__item\")\n",
    "    pages_a = soup.find_all(\"a\", class_ = \"in-pagination__item\")\n",
    "    \n",
    "    pages_div = [page.text for page in pages_div]\n",
    "    pages_a = [page.text for page in pages_a]\n",
    "    \n",
    "    num_list = list()\n",
    "    for page in pages_a + pages_div:\n",
    "        try:\n",
    "            num = int(page)\n",
    "            num_list.append(num)\n",
    "        except:\n",
    "            continue\n",
    "    return max(num_list)"
   ]
  },
  {
   "cell_type": "code",
   "execution_count": 3,
   "metadata": {},
   "outputs": [],
   "source": [
    "def get_info_from_annuncio(annuncio):\n",
    "    title = annuncio.find(\"a\", class_ = \"in-reListCard__title\").text\n",
    "    price = annuncio.find(\"div\", class_ = \"in-reListCardPrice\").text\n",
    "    infos = annuncio.find_all(\"div\", class_ = \"in-reListCardFeatureList__item\")\n",
    "    infos_text = [info.text for info in infos]\n",
    "    res = {\"title\" : title, \"price\" : price, \"infos\":infos_text}\n",
    "    return res\n",
    "\n",
    "def get_immobiliare_info(url, params = None, headers = None):\n",
    "    soup = get_soup(url, params= params, headers= headers)\n",
    "    terreni = soup.find_all(\"div\", class_ = \"nd-mediaObject__content\")\n",
    "    res = []\n",
    "    for i,terreno in enumerate(terreni):\n",
    "        res.append(get_info_from_annuncio(terreno))\n",
    "    return res"
   ]
  },
  {
   "cell_type": "code",
   "execution_count": 4,
   "metadata": {},
   "outputs": [],
   "source": [
    "\n",
    "\n",
    "def get_all_from_regione(regione):\n",
    "\n",
    "    url = \"https://www.immobiliare.it/vendita-terreni/{}/?criterio=rilevanza&superficieMinima=20000&idTipologia=107\".format(regione)\n",
    "    url_with_page_num = url+\"&pag={}\"\n",
    "\n",
    "    num_pages = get_num_pages(url)\n",
    "    items = list()\n",
    "    for i in range(1,num_pages+1):\n",
    "        items.extend(get_immobiliare_info(url_with_page_num.format(i)))\n",
    "    return items\n",
    "\n",
    "all_annunci = dict()\n",
    "for regione in [\"lombardia\", \"veneto\"]:\n",
    "    all_annunci[regione]= get_all_from_regione(regione)"
   ]
  },
  {
   "cell_type": "code",
   "execution_count": 7,
   "metadata": {},
   "outputs": [
    {
     "name": "stdout",
     "output_type": "stream",
     "text": [
      "lombardia number of terreni: 334\n",
      "veneto number of terreni: 227\n"
     ]
    }
   ],
   "source": [
    "for regione in all_annunci:\n",
    "    print(regione, \"number of terreni:\", len(all_annunci[regione]))"
   ]
  },
  {
   "cell_type": "code",
   "execution_count": 8,
   "metadata": {},
   "outputs": [],
   "source": [
    "import json\n",
    "with open(\"annunci.json\", 'w') as json_file:\n",
    "    json.dump(all_annunci, json_file)"
   ]
  }
 ],
 "metadata": {
  "kernelspec": {
   "display_name": "base",
   "language": "python",
   "name": "python3"
  },
  "language_info": {
   "codemirror_mode": {
    "name": "ipython",
    "version": 3
   },
   "file_extension": ".py",
   "mimetype": "text/x-python",
   "name": "python",
   "nbconvert_exporter": "python",
   "pygments_lexer": "ipython3",
   "version": "3.11.7"
  }
 },
 "nbformat": 4,
 "nbformat_minor": 2
}
