{
 "cells": [
  {
   "cell_type": "code",
   "execution_count": 1,
   "metadata": {},
   "outputs": [],
   "source": [
    "import requests\n",
    "from bs4 import BeautifulSoup\n"
   ]
  },
  {
   "cell_type": "code",
   "execution_count": 2,
   "metadata": {},
   "outputs": [],
   "source": [
    "def get_soup(url, params = None, headers = None):\n",
    "    response = requests.get(url, params = params,\n",
    "                            headers = headers)\n",
    "    soup = BeautifulSoup(response.content, \"html.parser\")\n",
    "    return soup\n",
    "\n",
    "def get_num_pages(url):\n",
    "    soup = get_soup(url)\n",
    "    pages = soup.find_all(\"div\", class_ = \"in-pagination__item\")\n",
    "    pages = [page.text for page in pages]\n",
    "    return int(pages[-1])"
   ]
  },
  {
   "cell_type": "code",
   "execution_count": 77,
   "metadata": {},
   "outputs": [],
   "source": [
    "def get_info_from_annuncio(annuncio):\n",
    "    title = annuncio.find(\"a\", class_ = \"in-reListCard__title\").text\n",
    "    price = annuncio.find(\"div\", class_ = \"in-reListCardPrice\").text\n",
    "    infos = annuncio.find_all(\"div\", class_ = \"in-reListCardFeatureList__item\")\n",
    "    infos_text = [info.text for info in infos]\n",
    "    res = {\"title\" : title, \"price\" : price, \"infos\":infos_text}\n",
    "    return res\n",
    "\n",
    "def get_immobiliare_info(url, params = None, headers = None):\n",
    "    soup = get_soup(url, params= params, headers= headers)\n",
    "    terreni = soup.find_all(\"div\", class_ = \"nd-mediaObject__content\")\n",
    "    res = []\n",
    "    for i,terreno in enumerate(terreni):\n",
    "        res.append(get_info_from_annuncio(terreno))\n",
    "    return res"
   ]
  },
  {
   "cell_type": "code",
   "execution_count": 98,
   "metadata": {},
   "outputs": [],
   "source": [
    "url = \"https://www.immobiliare.it/vendita-terreni/lombardia/?criterio=rilevanza&superficieMinima=20000&idTipologia=107\"\n",
    "url_with_page_num = \"https://www.immobiliare.it/vendita-terreni/lombardia/?criterio=rilevanza&superficieMinima=20000&idTipologia=107&pag={}\"\n",
    "num_pages = get_num_pages(url)\n",
    "items = list()\n",
    "for i in range(num_pages):\n",
    "    items.extend(get_immobiliare_info(url_with_page_num.format(i)))"
   ]
  },
  {
   "cell_type": "code",
   "execution_count": 106,
   "metadata": {},
   "outputs": [
    {
     "data": {
      "text/plain": [
       "[{'title': \"Terreno edificabile via Consortile dei Ronchi, Arzago d'Adda\",\n",
       "  'price': '€ 999.000',\n",
       "  'infos': ['26.370 m²']},\n",
       " {'title': 'Terreno edificabile via Cà Morino, Cunettone, Solferino',\n",
       "  'price': '€ 1.500.000',\n",
       "  'infos': ['24.009 m²']},\n",
       " {'title': 'Terreno edificabile via Ingegner Luigi Carena, Casei, Casei Gerola',\n",
       "  'price': '€ 553.400',\n",
       "  'infos': ['27.671 m²']},\n",
       " {'title': 'Terreno edificabile via Giuseppe Mazzini 59, Centro, Castiglione delle Stiviere',\n",
       "  'price': '€ 800.000',\n",
       "  'infos': ['26.600 m²']},\n",
       " {'title': 'Terreno edificabile via Borgo Oleario, Magherno',\n",
       "  'price': '€ 450.000',\n",
       "  'infos': ['23.054 m²']},\n",
       " {'title': 'Terreno edificabile via Giuseppe Mazzini 23, Roverbella',\n",
       "  'price': '€ 4.500.000',\n",
       "  'infos': ['100.000 m²']},\n",
       " {'title': 'Terreno edificabile via Carso 73, Madone',\n",
       "  'price': 'Prezzo su richiesta',\n",
       "  'infos': ['95.000 m²']},\n",
       " {'title': 'Terreno edificabile via Giacomo Matteotti 28, Trescore Balneario',\n",
       "  'price': '€ 1.000',\n",
       "  'infos': ['32.000 m²']},\n",
       " {'title': 'Terreno edificabile, Tre Castelli - Faenza, Milano',\n",
       "  'price': '€ 150.000',\n",
       "  'infos': ['550.000 m²']},\n",
       " {'title': 'Terreno edificabile via Sanguinetto, Centro, Quistello',\n",
       "  'price': '€ 1.000',\n",
       "  'infos': ['66.200 m²']}]"
      ]
     },
     "execution_count": 106,
     "metadata": {},
     "output_type": "execute_result"
    }
   ],
   "source": [
    "items[-10:]"
   ]
  }
 ],
 "metadata": {
  "kernelspec": {
   "display_name": "base",
   "language": "python",
   "name": "python3"
  },
  "language_info": {
   "codemirror_mode": {
    "name": "ipython",
    "version": 3
   },
   "file_extension": ".py",
   "mimetype": "text/x-python",
   "name": "python",
   "nbconvert_exporter": "python",
   "pygments_lexer": "ipython3",
   "version": "3.11.7"
  }
 },
 "nbformat": 4,
 "nbformat_minor": 2
}
