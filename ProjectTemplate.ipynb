{
 "cells": [
  {
   "cell_type": "markdown",
   "id": "1d4c1e9d-502d-4d5f-8cfc-8c9224a8ea9e",
   "metadata": {
    "tags": []
   },
   "source": [
    "# Project report template\n",
    "\n",
    "Please use this template to report the status of your project to the instructor.<br>\n",
    "This cell contains some general instructions. It must not be present in your report,<br>\n",
    "\n",
    "**Instructions**\n",
    "- *Instructions are written in italics and must be removed from your report*\n",
    "- The markdown text formatting is an HTML dialect. You can use HTML commands to format your report. For example, use:\n",
    "    - \\<br\\> to wrap\n",
    "    - \\<!-- comment --\\> to insert an invisible comment\n"
   ]
  },
  {
   "cell_type": "markdown",
   "id": "e477ee4c-c86e-468c-95ad-68dca285cbcb",
   "metadata": {
    "tags": []
   },
   "source": [
    "# Title of the project\n",
    "\n",
    "Date: 28/03/2024 <br>\n",
    "Version: 1 <br>\n",
    "\n",
    "**Course**: Managerial Decision Making & Modeling\n",
    "\n",
    "**Investigator(s)**\n",
    "- Giuseppe Massidda , 901029@stud.unive.it\n",
    "- Lorenzo Muscillo , 1000916@stud.unive.it"
   ]
  },
  {
   "cell_type": "markdown",
   "id": "b0996caf-704d-47f2-8d39-50ded86e32ef",
   "metadata": {
    "jp-MarkdownHeadingCollapsed": true,
    "tags": []
   },
   "source": [
    "## Document review(s)"
   ]
  },
  {
   "cell_type": "markdown",
   "id": "3b2a4b89-c097-41d9-bc6f-028a34409c77",
   "metadata": {},
   "source": [
    "*Fill in a cell like this one for each document review sent to the instructor.*\n",
    "\n",
    "Version: *Version of your document*\n",
    "- Modified sections: *List the sections that you have modified, e.g., All, or Model, or Scenatio 1*\n",
    "- Description/modifications: *A short description of your modifications, e.g., First draft, or Introduced new constraints, or introduced a new scenario*\n",
    "- Transmitted on date: *dd/mm/yyyy - Date you submitted this version of the report to the instructor*"
   ]
  },
  {
   "cell_type": "markdown",
   "id": "7523e769-6ad7-4f64-a52d-13516b2c4ada",
   "metadata": {
    "tags": []
   },
   "source": [
    "# 1 - Abstract\n",
    "*A short summary, usually between 100 and 200 words.*<br>\n",
    "*Summarize this report's background, purpose, methodology, results, and conclusion.*"
   ]
  },
  {
   "cell_type": "markdown",
   "id": "25adff34-8bf1-4a9b-8946-98001bfec91f",
   "metadata": {
    "tags": []
   },
   "source": [
    "# 2 - Acronyms and definitions\n",
    "*Include this section if you use acronyms or technical terms in the text whose meaning may be unknown to the reader, may not correspond to the commonly understood meaning, or may otherwise be ambiguous.*\n",
    "\n",
    "*For example:*\n",
    "- *Unive: Università Ca' Foscari, Venice*.\n",
    "- *Facility: Warehouse with refrigerators dedicated to the storage of ice cream*.\n",
    "- *Distance: Great circle distance, i.e., as the crow flies, between two points*."
   ]
  },
  {
   "cell_type": "markdown",
   "id": "815c628c-6de1-4501-8ff4-2cd99e441b32",
   "metadata": {
    "tags": []
   },
   "source": [
    "# 3 - Problem statement\n",
    "<hr>\n",
    "\n",
    "The board of Walmart Inc. commissioned an analysis of different scenarios of potential entry in the Italian market. The main issue that walmart faces when entering a different country relates to the cultural affinity of the customers for Walmart's brand and value proposition. For this reason, the board decided to start operating only in the Lombardia region. \n",
    "\n",
    "The goal of the operation is maximizing profits.\n",
    "\n",
    "Profits can be estimated by adding the EBITDA (margine operativo lordo) of the first 5 years minus the cost of purchasing the property and the cost of building the store.\n",
    "\n",
    "The board wants to know how many retail locations should be opened and where. The main challenge is finding suitable locations. A Walmart store is built on a large lot of land that has room for a large parking lot. For this reason empty lots are preferred to preexisting commercial buildings. Lots have to be within 20 and 60 thousands square kilometers.\n",
    "\n",
    "The EBITDA of a store depends on the population that is near the location and the size of the store. Only one store can consider a comune's population as its potential customer base. The store will attract a higher share of customers from a comune if it is larger and if it is closer to that comune\n",
    "\n",
    "\n",
    "\n"
   ]
  },
  {
   "cell_type": "markdown",
   "id": "a3486283-a4bb-400a-91e9-1526a357a284",
   "metadata": {
    "tags": []
   },
   "source": [
    "# 4 - System"
   ]
  },
  {
   "cell_type": "markdown",
   "id": "a7337557-5653-414a-8133-52fe53f5eee3",
   "metadata": {
    "tags": []
   },
   "source": [
    "## 4.1 - Agents/DMs\n",
    "*List the agents and DMs of interest to the problem.* <br>\n",
    "*Specify their attributes/characteristics (corresponding to the data to be collected) \n",
    "and, in the case of DMs, also their, possibly multiple, objectives.*\n",
    "<hr>\n",
    "The main decision maker is the company. Its objective is to place a number of stores in such a way that maximises profits.\n",
    "\n",
    "Customers are another agent of the system, they can be modeled as a population center (comune) that can be served by only one store.\n",
    "\n",
    "## 4.2 - Entities\n",
    "*List the entities of interest to the problem.* <br>\n",
    "*Specify their attributes/characteristics (corresponding to the data to be collected)*\n",
    "<hr>\n",
    "The potential lots to to be acquired are the key components of the system.\n",
    "Large commercial lots for sale on immobiliare.it will be considered. Data that has to be collected relates to the price, the location of the lot so that its distance from customers can be calculated.\n",
    "\n",
    "\n",
    "\n",
    "## 4.3 - Relationships among elements\n",
    "*List the relationships/interactions between the elements.*<br>\n",
    "*Specify their attributes/characteristics of interest to the problem (corresponding to the data to be collected) \n",
    "and the constraints they impose on the DMs' decisions.*\n",
    "<hr>\n",
    "A store EBITDA depends on the positioning of the stores, the closer a store is to a population center the higher it will be. EBITDA is also higher for larger stores.\n",
    "Costs are made up by two factors: a fixed cost that is the purchasing price of the lot, and a variable cost of construction that increases with the size of the store.\n",
    "\n",
    "## 4.4 - Other constituents of the system\n",
    "*List the possible external disturbances, internal uncertainties, externalities, \n",
    "and other components necessary to describe the system as a whole a\n",
    "and to understand the consequences of the DMs' decisions.*\n",
    "<hr>\n",
    "\n",
    "The success of such operation relies also on factors that are hard to model mathematically, for example cultural affinity of the customers for the brand and value proposition.\n",
    "\n",
    "Also there is a lot of uncertainty coming from the number of metrics that have to be estimated: average construction cost as a function of size; average share of a comune's population that can be attracted by a store as a function of its size and distance; average EBITDA as a function of the population attracted.\n",
    "\n",
    "## 4.5 - Assumptions\n",
    "*Clearly state any assumptions you make about the system, as in the following example:*<br>\n",
    "**Assumption**: *The demand for products decreases linearly with the price of the products.*\n",
    "\n",
    "<hr>\n",
    "\n",
    "**Assumption**: EBITDA is linearly proportional to number of customers attracted.\n",
    "\n",
    "**Assumption**: A comune's entire population can be served only by one store.\n",
    "\n",
    "**Assumption**: The number of customers attracted by a store is:\n",
    "- decreasing in distance to the store.\n",
    "- increasing in the size of the store.\n",
    "\n",
    "**Assumption**: Costs are made up by two components:\n",
    "- the purchase price of the lot,\n",
    "- the construction costs, which are proportional to the lot size.\n",
    "\n"
   ]
  },
  {
   "cell_type": "markdown",
   "id": "741efcff-af2b-49a2-90da-499958a479b3",
   "metadata": {},
   "source": [
    "# 5 - Data\n",
    "\n",
    "- *List the data sources*\n",
    "- *Indicate the name of the csv/json/xlsx files that contain the data \n",
    "and provide a short describtion of how the data is organized* \n",
    "- *Clearly state possible assumptions, as in the following examples*\n",
    "\n",
    "**Assumption**: *Unit transportation cost data can be purchased from www.site.com. However, the data used in this project is artificially generated according to the following rule:*\n",
    "\n",
    "*unit transportation cost_{w,c} = 0.5 x great circle distance between warehouse w and customer c*\n",
    "\n",
    "\n",
    "**Assumption**: *The transportation costs are assumed as follows:*\n",
    "\n",
    "*unit transportation cost_{w,c} = alpha x distance between warehouse w and customer c*\n",
    "\n",
    "*fixed transportation cost_{w,c} = beta*\n",
    "\n",
    "<hr>\n",
    "\n",
    "**Assumption**: lots can be purchased from many different channels, however we will consider only the ones listed for sale on immobiliare.it for which an address/coordinates as well as price and surface area are provided. We will use a web scraping script to download the data. Using the openstreetmap overpass api we will calculate the distance from the other elements of the model.\n",
    "\n",
    "Thus data on the lots/properties will be a data frame with three columns: price, area, coordinates.\n",
    "\n",
    "**Assumption** We will assume the population is entirely concentrated in the center of the comune. Population data will be taken from ISTAT website. The customers data will be represented in a dataframe with all the comuni in the rows, and one column for coordinates of the center, one column for population.\n",
    "\n",
    "\n",
    "**Assumption** the EBITDA of a store is equal to the number of customers attracted times a constant that can be estimated looking at competitors.\n",
    "\n",
    "**Assumption** the number of customers from comune $C_i$ attracted by a store in $P_j$ is equal to $POP_i \\cdot f_1(dist(C_i,P_j)) * f_2(SIZE_j)$ where $f_1$ is a function $ dist\\mapsto [0,1]$ that gives the proportion of  \n",
    "\n",
    "\n",
    "\n"
   ]
  },
  {
   "cell_type": "markdown",
   "id": "6863ce2d-9271-45f6-ae45-9ea9bc62f601",
   "metadata": {
    "tags": []
   },
   "source": [
    "# 5 - Scenario 1\n",
    "*Fill in a section like this for each scenario*"
   ]
  },
  {
   "cell_type": "markdown",
   "id": "3ef583b8-74e5-4d8a-baf3-344424dacbbe",
   "metadata": {
    "tags": []
   },
   "source": [
    "## 5.1 - Mathematical model \n",
    "*Use this subsection to present the code of the main mathematical model for the considered problem*\n",
    "\n",
    "<hr>\n",
    "\n",
    "$C$ = Set of municipalities $\\cong \\{1,...,n\\}$ <br>\n",
    "$C_{pop_i}$ = Population of municipalities <br>\n",
    "$Lon_{C_i}$; $Lat_{C_i}$ = Longitude and latitude of municipalities <br>\n",
    "<br>\n",
    "$P$ = Property, for every property we obtain **surface**, **price** and **coordinates** $\\cong \\{1,...,m\\}$ \n",
    "\n",
    "<hr>\n",
    "\n",
    "*Decision Variable* <br>\n",
    "\n",
    "$y_j = \\{ 0;1 \\}$ if $P_j$ is choosen\n",
    "\n",
    "$x_{j_i} = \\{ 0;1\\}$ if $P_{j_i}$ serves $C_i$\n",
    "\n",
    "So we estimated the revenues for every property: <br>\n",
    "<br>\n",
    "$REV_{P_j} = \\alpha K_{j} * \\sum^{n}_{j = 1}(\\frac{pop_i}{dist(C_i;P_j)}) * x_{j_i}$\n",
    "\n",
    "$COST_{P_j} = y_j * [PricePurcasing_j + (Construnctions_j * Surface_j)]$ <br>\n",
    "\n",
    "<br>\n",
    "Where $K$ is a constant obtained by ..."
   ]
  },
  {
   "cell_type": "markdown",
   "id": "3d2f0194",
   "metadata": {},
   "source": []
  },
  {
   "cell_type": "markdown",
   "id": "2e772f26-2115-43a5-89e2-5c9a690cb3cb",
   "metadata": {
    "tags": []
   },
   "source": [
    "### 5.1.1 - Preliminary operations\n",
    "*Comment the code in the next cell that performs the preliminary operations, for example:*\n",
    "- *load libraries,* \n",
    "- *define functions.*"
   ]
  },
  {
   "cell_type": "code",
   "execution_count": 1,
   "id": "f729960b",
   "metadata": {},
   "outputs": [],
   "source": [
    "import pandas as pd"
   ]
  },
  {
   "cell_type": "code",
   "execution_count": 89,
   "id": "8e0f4bf6-4ea7-436c-b649-00272c12018b",
   "metadata": {
    "tags": []
   },
   "outputs": [
    {
     "name": "stdout",
     "output_type": "stream",
     "text": [
      "lombardia number of lands: 288\n"
     ]
    }
   ],
   "source": [
    "# Web scarping functions to search the informations that we need for the properties.\n",
    "\n",
    "import requests\n",
    "from bs4 import BeautifulSoup\n",
    "\n",
    "def get_soup(url, params = None, headers = None):\n",
    "    response = requests.get(url, params = params,\n",
    "                            headers = headers)\n",
    "    soup = BeautifulSoup(response.content, \"html.parser\")\n",
    "    return soup\n",
    "\n",
    "def get_num_pages(url):\n",
    "    soup = get_soup(url)\n",
    "    pages_div = soup.find_all(\"div\", class_ = \"in-pagination__item\")\n",
    "    pages_a = soup.find_all(\"a\", class_ = \"in-pagination__item\")\n",
    "    \n",
    "    pages_div = [page.text for page in pages_div]\n",
    "    pages_a = [page.text for page in pages_a]\n",
    "    \n",
    "    num_list = list()\n",
    "    for page in pages_a + pages_div:\n",
    "        try:\n",
    "            num = int(page)\n",
    "            num_list.append(num)\n",
    "        except:\n",
    "            continue\n",
    "    return max(num_list)\n",
    "\n",
    "def get_info_from_ad(ad):\n",
    "    title = ad.find(\"a\", class_ = \"in-reListCard__title\").text\n",
    "    price = ad.find(\"div\", class_ = \"in-reListCardPrice\").text\n",
    "    infos = ad.find_all(\"div\", class_ = \"in-reListCardFeatureList__item\")\n",
    "    infos_text = [info.text for info in infos]\n",
    "    res = {\"title\" : title, \"price\" : price, \"infos\":infos_text}\n",
    "    return res\n",
    "\n",
    "def get_immobiliare_info(url, params = None, headers = None):\n",
    "    soup = get_soup(url, params= params, headers= headers)\n",
    "    lands = soup.find_all(\"div\", class_ = \"nd-mediaObject__content\")\n",
    "    res = []\n",
    "    for i,land in enumerate(lands):\n",
    "        res.append(get_info_from_ad(land))\n",
    "    return res\n",
    "\n",
    "def get_all_from_region(region):\n",
    "\n",
    "    url = \"https://www.immobiliare.it/vendita-terreni/{}/?criterio=rilevanza&superficieMinima=20000&superficieMassima=60000&idTipologia=107\".format(region)\n",
    "    url_with_page_num = url+\"&pag={}\"\n",
    "\n",
    "    num_pages = get_num_pages(url)\n",
    "    items = list()\n",
    "    for i in range(1,num_pages+1):\n",
    "        items.extend(get_immobiliare_info(url_with_page_num.format(i)))\n",
    "    return items\n",
    "\n",
    "all_ads = dict()\n",
    "for region in [\"lombardia\"]:\n",
    "    all_ads[region]= get_all_from_region(region)\n",
    "\n",
    "for region in all_ads:\n",
    "    print(region, \"number of lands:\", len(all_ads[region]))\n",
    "\n",
    "import json\n",
    "with open(\"ad.json\", 'w') as json_file:\n",
    "    json.dump(all_ads, json_file)\n"
   ]
  },
  {
   "cell_type": "code",
   "execution_count": 95,
   "id": "21cda445",
   "metadata": {},
   "outputs": [
    {
     "data": {
      "text/html": [
       "<div>\n",
       "<style scoped>\n",
       "    .dataframe tbody tr th:only-of-type {\n",
       "        vertical-align: middle;\n",
       "    }\n",
       "\n",
       "    .dataframe tbody tr th {\n",
       "        vertical-align: top;\n",
       "    }\n",
       "\n",
       "    .dataframe thead th {\n",
       "        text-align: right;\n",
       "    }\n",
       "</style>\n",
       "<table border=\"1\" class=\"dataframe\">\n",
       "  <thead>\n",
       "    <tr style=\"text-align: right;\">\n",
       "      <th></th>\n",
       "      <th>Title</th>\n",
       "      <th>Price</th>\n",
       "      <th>Surface m^2</th>\n",
       "    </tr>\n",
       "  </thead>\n",
       "  <tbody>\n",
       "    <tr>\n",
       "      <th>1</th>\n",
       "      <td>via strada nuova 22, codevilla</td>\n",
       "      <td>€ 1.400.000</td>\n",
       "      <td>[24.000 m²]</td>\n",
       "    </tr>\n",
       "    <tr>\n",
       "      <th>2</th>\n",
       "      <td>cascina cassinazza, pantigliate</td>\n",
       "      <td>€ 557.550</td>\n",
       "      <td>[35.998 m²]</td>\n",
       "    </tr>\n",
       "    <tr>\n",
       "      <th>7</th>\n",
       "      <td>via trieste, soiano, soiano del lago</td>\n",
       "      <td>€ 2.690.000</td>\n",
       "      <td>[28.000 m²]</td>\n",
       "    </tr>\n",
       "    <tr>\n",
       "      <th>8</th>\n",
       "      <td>via xx settembre, serle</td>\n",
       "      <td>€ 330.000</td>\n",
       "      <td>[25.500 m²]</td>\n",
       "    </tr>\n",
       "    <tr>\n",
       "      <th>9</th>\n",
       "      <td>via sp9, dello</td>\n",
       "      <td>€ 5.000.000</td>\n",
       "      <td>[50.000 m²]</td>\n",
       "    </tr>\n",
       "    <tr>\n",
       "      <th>...</th>\n",
       "      <td>...</td>\n",
       "      <td>...</td>\n",
       "      <td>...</td>\n",
       "    </tr>\n",
       "    <tr>\n",
       "      <th>282</th>\n",
       "      <td>contrada molino, zecchini, castel goffredo</td>\n",
       "      <td>€ 2.578.050</td>\n",
       "      <td>[30.330 m²]</td>\n",
       "    </tr>\n",
       "    <tr>\n",
       "      <th>283</th>\n",
       "      <td>strada provinciale goitese, medole</td>\n",
       "      <td>€ 1.950.000</td>\n",
       "      <td>[20.000 m²]</td>\n",
       "    </tr>\n",
       "    <tr>\n",
       "      <th>285</th>\n",
       "      <td>sp121, brignano gera d'adda</td>\n",
       "      <td>€ 1.500.000</td>\n",
       "      <td>[24.000 m²]</td>\n",
       "    </tr>\n",
       "    <tr>\n",
       "      <th>286</th>\n",
       "      <td>strada provinciale arosio canzo, castelmarte</td>\n",
       "      <td>€ 1.111</td>\n",
       "      <td>[27.000 m²]</td>\n",
       "    </tr>\n",
       "    <tr>\n",
       "      <th>287</th>\n",
       "      <td>, centro, opera</td>\n",
       "      <td>€ 6.000.000</td>\n",
       "      <td>[32.000 m²]</td>\n",
       "    </tr>\n",
       "  </tbody>\n",
       "</table>\n",
       "<p>137 rows × 3 columns</p>\n",
       "</div>"
      ],
      "text/plain": [
       "                                             Title        Price  Surface m^2\n",
       "1                   via strada nuova 22, codevilla  € 1.400.000  [24.000 m²]\n",
       "2                  cascina cassinazza, pantigliate    € 557.550  [35.998 m²]\n",
       "7             via trieste, soiano, soiano del lago  € 2.690.000  [28.000 m²]\n",
       "8                          via xx settembre, serle    € 330.000  [25.500 m²]\n",
       "9                                   via sp9, dello  € 5.000.000  [50.000 m²]\n",
       "..                                             ...          ...          ...\n",
       "282     contrada molino, zecchini, castel goffredo  € 2.578.050  [30.330 m²]\n",
       "283             strada provinciale goitese, medole  € 1.950.000  [20.000 m²]\n",
       "285                    sp121, brignano gera d'adda  € 1.500.000  [24.000 m²]\n",
       "286   strada provinciale arosio canzo, castelmarte      € 1.111  [27.000 m²]\n",
       "287                                , centro, opera  € 6.000.000  [32.000 m²]\n",
       "\n",
       "[137 rows x 3 columns]"
      ]
     },
     "execution_count": 95,
     "metadata": {},
     "output_type": "execute_result"
    }
   ],
   "source": [
    "with open(\"ad.json\", \"r\") as json_file:\n",
    "    all_ads = json.load(json_file)\n",
    "\n",
    "streets = []\n",
    "prices = []\n",
    "titles = []\n",
    "surfaces = []\n",
    "\n",
    "for region, ads in all_ads.items():\n",
    "    for ad in ads:\n",
    "        title = ad[\"title\"]\n",
    "        price = ad[\"price\"]\n",
    "        surface = ad[\"infos\"]\n",
    "\n",
    "        streets.append(title)  \n",
    "        prices.append(price)\n",
    "        titles.append(title)\n",
    "        surfaces.append(surface)\n",
    "\n",
    "data = {\n",
    "    \"Title\": titles,\n",
    "    \"Price\": prices,\n",
    "    \"Surface m^2\": surfaces\n",
    "}\n",
    "df_prop = pd.DataFrame(data)\n",
    "# df_prop.set_index(\"Title\", inplace=True)\n",
    "\n",
    "def remove_words(address):\n",
    "    return address.replace(\"Terreno edificabile\", \"\")\n",
    "\n",
    "\n",
    "df_prop[\"Title\"] = df_prop[\"Title\"].str.replace(\"Terreno edificabile\", \"\")\n",
    "df_prop[\"Title\"] = df_prop[\"Title\"].str.replace(\"centro\", \"\")\n",
    "\n",
    "df_prop[\"Title\"] = df_prop[\"Title\"].str.capitalize()\n",
    "\n",
    "\n",
    "df_prop = df_prop[~df_prop[\"Title\"].str.contains(\"Terreno residenziale\")]\n",
    "df_prop = df_prop[~df_prop[\"Price\"].str.contains(\"Prezzo\")]\n",
    "\n",
    "df_prop[\"Title\"] = df_prop[\"Title\"].astype(str)\n",
    "\n",
    "def capitalize_first_letter(s):\n",
    "    return s.capitalize()\n",
    "\n",
    "df_prop['Title'] = df_prop['Title'].apply(capitalize_first_letter)\n",
    "\n",
    "df_prop\n"
   ]
  },
  {
   "cell_type": "code",
   "execution_count": 51,
   "id": "7917e897",
   "metadata": {},
   "outputs": [
    {
     "name": "stdout",
     "output_type": "stream",
     "text": [
      "object\n"
     ]
    }
   ],
   "source": [
    "print(df_prop[\"Title\"].dtype)"
   ]
  },
  {
   "cell_type": "code",
   "execution_count": null,
   "id": "9b4811e3",
   "metadata": {},
   "outputs": [
    {
     "name": "stdout",
     "output_type": "stream",
     "text": [
      "Latitude: 45.4346412\n",
      "Longitude: 9.370862\n"
     ]
    }
   ],
   "source": [
    "# From the web scraping we obtained the street but not the coordinates, so we create some function that\n",
    "# use an API from OpenStreetMap to get latitude and longitude.\n",
    "\n",
    "import requests\n",
    "\n",
    "address = \"cascina cassinazza, pantigliate\"\n",
    "url = \"https://nominatim.openstreetmap.org/search\"\n",
    "\n",
    "params = {'q': address, 'format': 'json'}\n",
    "response = requests.get(url, params=params)\n",
    "\n",
    "if response.status_code == 200:\n",
    "    data = response.json()\n",
    "    if data:\n",
    "        latitude = float(data[0]['lat'])\n",
    "        longitude = float(data[0]['lon'])\n",
    "        print(\"Latitude:\", latitude)\n",
    "        print(\"Longitude:\", longitude)\n",
    "    else:\n",
    "        print(\"No results found for the provided address\")\n",
    "else:\n",
    "    print(\"Error:\", response.text)"
   ]
  },
  {
   "cell_type": "code",
   "execution_count": 91,
   "id": "78c4cc2c",
   "metadata": {},
   "outputs": [
    {
     "name": "stdout",
     "output_type": "stream",
     "text": [
      "Address:  via strada nuova 22, codevilla\n",
      "No results found for the provided address\n",
      "Address:  cascina cassinazza, pantigliate\n",
      "Address:  via trieste, soiano, soiano del lago\n",
      "No results found for the provided address\n",
      "Address:  via xx settembre, serle\n",
      "Address:  via sp9, dello\n",
      "Address:  via franciacorta 74, centro, rovato\n",
      "No results found for the provided address\n",
      "Address:  via franciacorta, centro, rovato\n",
      "No results found for the provided address\n",
      "Address:  via torretta 8, oltrona di san mamette\n",
      "No results found for the provided address\n",
      "Address:  via casaglia, centro, travagliato\n",
      "No results found for the provided address\n",
      "Address:  viale marco polo, coccaglio\n",
      "No results found for the provided address\n",
      "Address:  corso europa, centro, verdellino\n",
      "No results found for the provided address\n",
      "Address:  via casaglia, centro, travagliato\n",
      "No results found for the provided address\n",
      "Address:  via kupfer, centro, palazzolo sull'oglio\n",
      "No results found for the provided address\n",
      "Address:  via casaglia, centro, travagliato\n",
      "No results found for the provided address\n",
      "Address:  strada salvo d'acquisto 13, marcaria\n",
      "No results found for the provided address\n",
      "Address:  via vittorio emanuele 7, centro, olgiate comasco\n",
      "No results found for the provided address\n",
      "Address:  via leon battista alberti, centro, castel goffredo\n",
      "No results found for the provided address\n",
      "Address:  strada brughiere, castel goffredo\n",
      "Address:  via vittorio emanuele 7, centro, olgiate comasco\n",
      "No results found for the provided address\n",
      "Address:  via torino, semi, cantù\n",
      "No results found for the provided address\n",
      "Address:  via franciacorta 74, centro, rovato\n",
      "No results found for the provided address\n",
      "Address:  via michelangelo buonarotti 30, pompiano\n",
      "No results found for the provided address\n",
      "Address:  via montichiari, centro, ghedi\n",
      "No results found for the provided address\n",
      "Address:  località treponti, san paolo\n",
      "No results found for the provided address\n",
      "Address:  str. per porzano 16, manerbio\n",
      "No results found for the provided address\n",
      "Address: Terreno industriale o artigianale all'asta via al bassone, como\n",
      "No results found for the provided address\n",
      "Address:  via monte grappa 31, centro, tribiano\n",
      "No results found for the provided address\n",
      "Address:  via san donato, centro, rovato\n",
      "No results found for the provided address\n",
      "Address:  via alessandria, ciserano\n",
      "No results found for the provided address\n",
      "Address:  via gentile, fontanella\n",
      "Address:  via roma, antegnate\n",
      "Address:  via sicilia, centro, magnago\n",
      "No results found for the provided address\n",
      "Address:  autostrada torino-trieste, cavenago di brianza\n",
      "No results found for the provided address\n",
      "Address:  via maria cristina 3, centro, pero\n",
      "No results found for the provided address\n",
      "Address: Terreno commerciale all'asta via al bassone, como\n",
      "No results found for the provided address\n",
      "Address:  via san giacomo 15, centro, zibido san giacomo\n",
      "No results found for the provided address\n",
      "Address:  a4, cambiago\n",
      "Address:  via bernardino zenale, centro, garbagnate milanese\n",
      "No results found for the provided address\n",
      "Address:  via galliani, casale litta\n",
      "Address:  via risorgimento, masate\n",
      "Address:  via risorgimento, masate\n",
      "Address:  sp83, persichello, persico dosimo\n",
      "Address:  via maroncelli, centro, busto garolfo\n",
      "No results found for the provided address\n",
      "Address:  via calci, centro, palazzolo sull'oglio\n",
      "No results found for the provided address\n",
      "Address:  via risorgimento , 166, clusane, iseo\n",
      "Address: , centro, garbagnate milanese\n",
      "No results found for the provided address\n",
      "Address:  via roma 30, turbigo\n",
      "Address:  via alessandria, ciserano\n",
      "No results found for the provided address\n",
      "Address:  via spexss35 14, casatisma\n",
      "No results found for the provided address\n",
      "Address:  via vittorio veneto 93, centro, brembio\n",
      "No results found for the provided address\n",
      "Address:  strada provincile 33, pieve san giacomo\n",
      "No results found for the provided address\n",
      "Address:  via milani, saronnese, legnano\n",
      "No results found for the provided address\n",
      "Address:  via roma, turbigo\n",
      "Address:  via donatello, centro, leno\n",
      "No results found for the provided address\n",
      "Address:  via donatello, centro, leno\n",
      "No results found for the provided address\n",
      "Address:  via galileo galilei, centro, guanzate\n",
      "No results found for the provided address\n",
      "Address:  localitã  ronchi snc, casto\n",
      "No results found for the provided address\n",
      "Address:  sp223, centro, guardamiglio\n",
      "No results found for the provided address\n",
      "Address:  sp ix 1, centro, dello\n",
      "No results found for the provided address\n",
      "Address:  via ceresio 35, lonate pozzolo\n",
      "Address:  via emilia 22, centro, guardamiglio\n",
      "No results found for the provided address\n",
      "Address:  via redipuglia, varedo\n",
      "Address: Terreno commerciale all'asta strada statale 394, cocquio-trevisago\n",
      "No results found for the provided address\n",
      "Address: , cenate sopra\n",
      "Address:  via p. maffezzoni, persico dosimo\n",
      "Address:  parco molgora, caponago\n",
      "Address: , certosa, milano\n",
      "Address:  via pontoglio snc, centro, gottolengo\n",
      "No results found for the provided address\n",
      "Address:  via mascagni, snc, cimbro, vergiate\n",
      "No results found for the provided address\n",
      "Address:  strada comunale della braglia, guardamiglio\n",
      "No results found for the provided address\n",
      "Address:  via valletta, usmate velate\n",
      "Address: , marone\n",
      "Address: , centro, suzzara\n",
      "No results found for the provided address\n",
      "Address: , centro, suzzara\n",
      "No results found for the provided address\n",
      "Address: , centro, suzzara\n",
      "No results found for the provided address\n",
      "Address:  via luigi marchesi 17, centro, inzago\n",
      "No results found for the provided address\n",
      "Address: Terreno industriale o artigianale all'asta strada statale paullese, monte cremasco\n",
      "No results found for the provided address\n",
      "Address:  palmanova, crescenzago, milano\n",
      "Address:  via v veneto mattina, centro, trenzano\n",
      "No results found for the provided address\n",
      "Address:  via alcide de gasperi, pumenengo\n",
      "No results found for the provided address\n",
      "Address:  via casina del monte, adrara san martino\n",
      "No results found for the provided address\n",
      "Address: , gallaratese, milano\n",
      "Address:  via novara 65, turbigo\n",
      "No results found for the provided address\n",
      "Address:  strada provinciale 49, pegognaga\n",
      "No results found for the provided address\n",
      "Address:  via enrico fermi, curno\n",
      "Address:  via mantova, 30, lonato del garda\n",
      "Address:  via don tezzoli, centro, garlasco\n",
      "No results found for the provided address\n",
      "Address:  via galileo galilei, guanzate\n",
      "Address: , ciserano\n",
      "Address:  corso italia, usmate velate, usmate velate\n",
      "Address:  via piave, verderio inferiore, verderio\n",
      "No results found for the provided address\n",
      "Address:  piazza san fermo, albiate\n",
      "Address:  via alessandria, ciserano\n",
      "No results found for the provided address\n",
      "Address: , celadina, bergamo\n",
      "Address:  sp 185 ,, calvenzano\n",
      "Address:  monza, monza\n",
      "Address: , ciserano\n",
      "Address: , vallere, castellana, vigevano\n",
      "No results found for the provided address\n",
      "Address: , pieve vecchia, manerba del garda\n",
      "Address:  via giorgio ambrosoli 1, suzzara\n",
      "No results found for the provided address\n",
      "Address: , centro, opera\n",
      "Address: , albano sant'alessandro\n",
      "Address:  svincolo pegognaga, pegognaga\n",
      "No results found for the provided address\n",
      "Address:  via vecchia di piadena, calvatone\n",
      "Address: , san paolo\n",
      "Address:  via vigna alta , 280, torretta, martinetta, san grato, lodi\n",
      "Address:  viale aldo moro, sant'angelo lodigiano\n",
      "No results found for the provided address\n",
      "Address: , cene\n",
      "Address:  via umberto i 13, centro, dovera\n",
      "No results found for the provided address\n",
      "Address: , ciserano\n",
      "Address: , centro, sospiro\n",
      "No results found for the provided address\n",
      "Address:  via biscia, centro, garbagnate milanese\n",
      "No results found for the provided address\n",
      "Address:  via umberto i 13, centro, dovera\n",
      "No results found for the provided address\n",
      "Address: , san giorgio bigarello\n",
      "Address: , centro, cornegliano laudense\n",
      "No results found for the provided address\n",
      "Address: , mantova\n",
      "Address:  via emilia, melegnano\n",
      "Address:  via brescia 102, santa maria, san bernardino, castelnuovo, crema\n",
      "No results found for the provided address\n",
      "Address: , centro, boffalora sopra ticino\n",
      "No results found for the provided address\n",
      "Address: , castrezzato\n",
      "Address: , pagazzano\n",
      "Address:  via tonale 64, albano sant'alessandro\n",
      "Address:  via consortile dei ronchi, arzago d'adda\n",
      "No results found for the provided address\n",
      "Address:  via cà morino, cunettone, solferino\n",
      "No results found for the provided address\n",
      "Address:  via ingegner luigi carena, casei, casei gerola\n",
      "No results found for the provided address\n",
      "Address:  via giuseppe mazzini 59, centro, castiglione delle stiviere\n",
      "No results found for the provided address\n",
      "Address:  via borgo oleario, magherno\n",
      "Address:  via giacomo matteotti 28, trescore balneario\n",
      "Address:  strada bugno 27, viadana\n",
      "No results found for the provided address\n",
      "Address:  via antonio gramsci 1, centro, busto garolfo\n",
      "No results found for the provided address\n",
      "Address:  via monte grappa 11, centro, castel d'ario\n",
      "No results found for the provided address\n",
      "Address:  via ferdinando magellano 8, casone, marcallo con casone\n",
      "Address:  contrada molino, zecchini, castel goffredo\n",
      "No results found for the provided address\n",
      "Address:  strada provinciale goitese, medole\n",
      "Address:  sp121, brignano gera d'adda\n",
      "Address:  strada provinciale arosio canzo, castelmarte\n",
      "No results found for the provided address\n",
      "Address: , centro, opera\n"
     ]
    }
   ],
   "source": [
    "def get_coordinates(address):\n",
    "    print(\"Address:\", address)\n",
    "    url = \"https://nominatim.openstreetmap.org/search\"\n",
    "    params = {'q': address, 'format': 'json'}\n",
    "    response = requests.get(url, params=params)\n",
    "    if response.status_code == 200:\n",
    "        data = response.json()\n",
    "        if data:\n",
    "            latitude = float(data[0]['lat'])\n",
    "            longitude = float(data[0]['lon'])\n",
    "            return latitude, longitude\n",
    "        else:\n",
    "            print(\"No results found for the provided address\")\n",
    "            return None, None\n",
    "    else:\n",
    "        print(\"Error:\", response.text)\n",
    "        return None, None\n",
    "\n",
    "df_prop['Latitude'], df_prop['Longitude'] = zip(*df_prop[\"Title\"].map(lambda x: get_coordinates(x)))\n"
   ]
  },
  {
   "cell_type": "code",
   "execution_count": 92,
   "id": "d4590a35",
   "metadata": {},
   "outputs": [
    {
     "name": "stdout",
     "output_type": "stream",
     "text": [
      "<class 'pandas.core.frame.DataFrame'>\n",
      "Index: 54 entries, 2 to 287\n",
      "Data columns (total 5 columns):\n",
      " #   Column       Non-Null Count  Dtype  \n",
      "---  ------       --------------  -----  \n",
      " 0   Title        54 non-null     object \n",
      " 1   Price        54 non-null     object \n",
      " 2   Surface m^2  54 non-null     object \n",
      " 3   Latitude     54 non-null     float64\n",
      " 4   Longitude    54 non-null     float64\n",
      "dtypes: float64(2), object(3)\n",
      "memory usage: 2.5+ KB\n"
     ]
    }
   ],
   "source": [
    "df_prop\n",
    "\n",
    "df_prop.dropna(subset = [\"Latitude\"], inplace=True)\n",
    "\n",
    "df_prop.info()"
   ]
  },
  {
   "cell_type": "markdown",
   "id": "a28bf00b-4188-474a-8bac-01cb6bd89524",
   "metadata": {},
   "source": [
    "### 5.1.2 - Sets\n",
    "*Comment the code in the next cell that defines the sets/lists needed to define the indexes of the model variables and constraints.*"
   ]
  },
  {
   "cell_type": "code",
   "execution_count": null,
   "id": "f42502c8-108d-4750-93c4-c0ff31b2e346",
   "metadata": {
    "tags": []
   },
   "outputs": [],
   "source": [
    "# code defines sets"
   ]
  },
  {
   "cell_type": "markdown",
   "id": "75643730-4845-4471-8845-496975871020",
   "metadata": {},
   "source": [
    "### 5.1.3 - Parameters\n",
    "*Comment the code in the next cell that reads the data described in Section 5 and defines the dictionaries and/or frames used in the model.*"
   ]
  },
  {
   "cell_type": "code",
   "execution_count": null,
   "id": "2d3cb211-6dfb-470f-873e-79f241a6fb7c",
   "metadata": {
    "tags": []
   },
   "outputs": [],
   "source": [
    "# code that reads the input data files\n",
    "\n",
    "# code that defines the dictionaries and/or frames used in the model. "
   ]
  },
  {
   "cell_type": "markdown",
   "id": "900d99bb-96e2-440b-98a2-f3d23e4f229a",
   "metadata": {
    "tags": []
   },
   "source": [
    "### 5.1.4 - Variables\n",
    "\n",
    "*Comment the code in the next cell that defines the variables of the model.*<br>\n",
    "*Specifically, indicate whether the variables are:*\n",
    "- *Decision variables, i.e., they model the DMs' decisions, or*\n",
    "- *Auxiliary variables, i.e., they are used, for example, to linearize the model objectives/constraints.*<br>\n",
    "*Specify the meaning and the nature (continuous, integer of binary) of each variable.*"
   ]
  },
  {
   "cell_type": "code",
   "execution_count": null,
   "id": "982286eb-e43d-4745-8218-a34ffb28f464",
   "metadata": {
    "tags": []
   },
   "outputs": [],
   "source": [
    "# code that defines the variables"
   ]
  },
  {
   "cell_type": "markdown",
   "id": "a5c0e162-6479-437d-abf9-57887bc56330",
   "metadata": {
    "tags": []
   },
   "source": [
    "### 5.1.5 - Constraints and Objective(s)\n",
    "*Comment the code in the next cell that defines the objectives and the constraints of the model.*<br>"
   ]
  },
  {
   "cell_type": "code",
   "execution_count": null,
   "id": "b17af8cd-6da1-496d-ac8b-289e045688d9",
   "metadata": {
    "tags": []
   },
   "outputs": [],
   "source": [
    "# codes that defines the objectives and the constraints of the model."
   ]
  },
  {
   "cell_type": "markdown",
   "id": "7fbe00bb-b1f8-44d6-93fb-a9c0e5420b6e",
   "metadata": {
    "jp-MarkdownHeadingCollapsed": true,
    "tags": []
   },
   "source": [
    "## 5.2 - Model solution\n",
    "*Comment the code in the next cell that calls the functions that solve the model and stores the values of the variables.*"
   ]
  },
  {
   "cell_type": "code",
   "execution_count": null,
   "id": "60964f84-5217-4dff-863f-43f8f6385ece",
   "metadata": {
    "tags": []
   },
   "outputs": [],
   "source": [
    "# code that calls the functions that solve the model and stores the values of the variables."
   ]
  },
  {
   "cell_type": "markdown",
   "id": "4343fc73-7514-4741-9d20-f191a01e823f",
   "metadata": {
    "tags": []
   },
   "source": [
    "## 5.3 - Analysis\n",
    "*Comment the model solutions and their possible applications in the real world with respect to different scenarios.*\n"
   ]
  }
 ],
 "metadata": {
  "kernelspec": {
   "display_name": "Python 3 (ipykernel)",
   "language": "python",
   "name": "python3"
  },
  "language_info": {
   "codemirror_mode": {
    "name": "ipython",
    "version": 3
   },
   "file_extension": ".py",
   "mimetype": "text/x-python",
   "name": "python",
   "nbconvert_exporter": "python",
   "pygments_lexer": "ipython3",
   "version": "3.12.2"
  }
 },
 "nbformat": 4,
 "nbformat_minor": 5
}
