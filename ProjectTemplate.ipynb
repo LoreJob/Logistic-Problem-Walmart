{
 "cells": [
  {
   "cell_type": "markdown",
   "id": "1d4c1e9d-502d-4d5f-8cfc-8c9224a8ea9e",
   "metadata": {
    "tags": []
   },
   "source": [
    "# Project report template\n",
    "\n",
    "Please use this template to report the status of your project to the instructor.<br>\n",
    "This cell contains some general instructions. It must not be present in your report,<br>\n",
    "\n",
    "**Instructions**\n",
    "- *Instructions are written in italics and must be removed from your report*\n",
    "- The markdown text formatting is an HTML dialect. You can use HTML commands to format your report. For example, use:\n",
    "    - \\<br\\> to wrap\n",
    "    - \\<!-- comment --\\> to insert an invisible comment\n"
   ]
  },
  {
   "cell_type": "markdown",
   "id": "e477ee4c-c86e-468c-95ad-68dca285cbcb",
   "metadata": {
    "tags": []
   },
   "source": [
    "# Title of the project\n",
    "\n",
    "Date: 28/03/2024 <br>\n",
    "Version: 1 <br>\n",
    "\n",
    "**Course**: Managerial Decision Making & Modeling\n",
    "\n",
    "**Investigator(s)**\n",
    "- Giuseppe Massidda , 901029@stud.unive.it\n",
    "- Lorenzo Muscillo , 1000916@stud.unive.it"
   ]
  },
  {
   "cell_type": "markdown",
   "id": "b0996caf-704d-47f2-8d39-50ded86e32ef",
   "metadata": {
    "jp-MarkdownHeadingCollapsed": true,
    "tags": []
   },
   "source": [
    "## Document review(s)"
   ]
  },
  {
   "cell_type": "markdown",
   "id": "3b2a4b89-c097-41d9-bc6f-028a34409c77",
   "metadata": {},
   "source": [
    "*Fill in a cell like this one for each document review sent to the instructor.*\n",
    "\n",
    "Version: *Version of your document*\n",
    "- Modified sections: *List the sections that you have modified, e.g., All, or Model, or Scenatio 1*\n",
    "- Description/modifications: *A short description of your modifications, e.g., First draft, or Introduced new constraints, or introduced a new scenario*\n",
    "- Transmitted on date: *dd/mm/yyyy - Date you submitted this version of the report to the instructor*"
   ]
  },
  {
   "cell_type": "markdown",
   "id": "7523e769-6ad7-4f64-a52d-13516b2c4ada",
   "metadata": {
    "tags": []
   },
   "source": [
    "# 1 - Abstract\n",
    "*A short summary, usually between 100 and 200 words.*<br>\n",
    "*Summarize this report's background, purpose, methodology, results, and conclusion.*"
   ]
  },
  {
   "cell_type": "markdown",
   "id": "25adff34-8bf1-4a9b-8946-98001bfec91f",
   "metadata": {
    "tags": []
   },
   "source": [
    "# 2 - Acronyms and definitions\n",
    "*Include this section if you use acronyms or technical terms in the text whose meaning may be unknown to the reader, may not correspond to the commonly understood meaning, or may otherwise be ambiguous.*\n",
    "\n",
    "*For example:*\n",
    "- *Unive: Università Ca' Foscari, Venice*.\n",
    "- *Facility: Warehouse with refrigerators dedicated to the storage of ice cream*.\n",
    "- *Distance: Great circle distance, i.e., as the crow flies, between two points*."
   ]
  },
  {
   "cell_type": "markdown",
   "id": "815c628c-6de1-4501-8ff4-2cd99e441b32",
   "metadata": {
    "tags": []
   },
   "source": [
    "# 3 - Problem statement\n",
    "<br>\n",
    "\n",
    "The board of Walmart Inc. commissioned an analysis of different scenarios of potential entry in the Italian market. The goal of the operation is gaining the lagest market share in the quickest amount of time. The board wants to know for each scenario how many retail locations should be opened and where. The main challenge is finding suitable locations. A Walmart store is built on a large lot of land that has room for a large parking spaces. For this reason empty lots are preferred to preexisting commercial buildings. Stores need to be placed near, or relatively close to a highway to reach the widest amount of customers."
   ]
  },
  {
   "cell_type": "markdown",
   "id": "a3486283-a4bb-400a-91e9-1526a357a284",
   "metadata": {
    "tags": []
   },
   "source": [
    "# 4 - System"
   ]
  },
  {
   "cell_type": "markdown",
   "id": "a7337557-5653-414a-8133-52fe53f5eee3",
   "metadata": {
    "tags": []
   },
   "source": [
    "## 4.1 - Agents/DMs\n",
    "*List the agents and DMs of interest to the problem.* <br>\n",
    "*Specify their attributes/characteristics (corresponding to the data to be collected) \n",
    "and, in the case of DMs, also their, possibly multiple, objectives.*\n",
    "<br>\n",
    "There is only one decision maker: the company. Its objective is to place a number of stores in such a way that population distance is minimized. Cost also has to be minimized.\n",
    "\n",
    "## 4.2 - Entities\n",
    "*List the entities of interest to the problem.* <br>\n",
    "*Specify their attributes/characteristics (corresponding to the data to be collected)*\n",
    "\n",
    "<br>\n",
    "The potential lots to to be acquired are the key components of the system.\n",
    "Large commercial lots for sale on immobiliare.it will be considered. Data that has to be collected relates to the price, the location of the lot so that its distance from customers and highways can be calculated.\n",
    "\n",
    "Another entity is customers: they can be added to the model as the population of each town/city.\n",
    "\n",
    "Data on highways is also needed.\n",
    "\n",
    "The other entity is competitors\n",
    "\n",
    "## 4.3 - Relationships among elements\n",
    "*List the relationships/interactions between the elements.*<br>\n",
    "*Specify their attributes/characteristics of interest to the problem (corresponding to the data to be collected) \n",
    "and the constraints they impose on the DMs' decisions.*\n",
    "\n",
    "## 4.4 - Other constituents of the system\n",
    "*List the possible external disturbances, internal uncertainties, externalities, \n",
    "and other components necessary to describe the system as a whole a\n",
    "and to understand the consequences of the DMs' decisions.*\n",
    "\n",
    "## 4.5 - Assumptions\n",
    "*Clearly state any assumptions you make about the system, as in the following example:*<br>\n",
    "**Assumption**: *The demand for products decreases linearly with the price of the products.*\n"
   ]
  },
  {
   "cell_type": "markdown",
   "id": "741efcff-af2b-49a2-90da-499958a479b3",
   "metadata": {},
   "source": [
    "# 5 - Data\n",
    "\n",
    "- *List the data sources*\n",
    "- *Indicate the name of the csv/json/xlsx files that contain the data \n",
    "and provide a short describtion of how the data is organized* \n",
    "- *Clearly state possible assumptions, as in the following examples*\n",
    "\n",
    "**Assumption**: *Unit transportation cost data can be purchased from www.site.com. However, the data used in this project is artificially generated according to the following rule:*\n",
    "\n",
    "*unit transportation cost_{w,c} = 0.5 x great circle distance between warehouse w and customer c*\n",
    "\n",
    "\n",
    "**Assumption**: *The transportation costs are assumed as follows:*\n",
    "\n",
    "*unit transportation cost_{w,c} = alpha x distance between warehouse w and customer c*\n",
    "\n",
    "*fixed transportation cost_{w,c} = beta*\n",
    "\n"
   ]
  },
  {
   "cell_type": "markdown",
   "id": "6863ce2d-9271-45f6-ae45-9ea9bc62f601",
   "metadata": {
    "tags": []
   },
   "source": [
    "# 5 - Scenario 1\n",
    "*Fill in a section like this for each scenario*"
   ]
  },
  {
   "cell_type": "markdown",
   "id": "3ef583b8-74e5-4d8a-baf3-344424dacbbe",
   "metadata": {
    "tags": []
   },
   "source": [
    "## 5.1 - Mathematical model \n",
    "*Use this subsection to present the code of the main mathematical model for the considered problem*"
   ]
  },
  {
   "cell_type": "markdown",
   "id": "2e772f26-2115-43a5-89e2-5c9a690cb3cb",
   "metadata": {
    "tags": []
   },
   "source": [
    "### 5.1.1 - Preliminary operations\n",
    "*Comment the code in the next cell that performs the preliminary operations, for example:*\n",
    "- *load libraries,* \n",
    "- *define functions.*"
   ]
  },
  {
   "cell_type": "code",
   "execution_count": 20,
   "id": "8e0f4bf6-4ea7-436c-b649-00272c12018b",
   "metadata": {
    "tags": []
   },
   "outputs": [],
   "source": [
    "# Preliminary operations' code"
   ]
  },
  {
   "cell_type": "markdown",
   "id": "a28bf00b-4188-474a-8bac-01cb6bd89524",
   "metadata": {},
   "source": [
    "### 5.1.2 - Sets\n",
    "*Comment the code in the next cell that defines the sets/lists needed to define the indexes of the model variables and constraints.*"
   ]
  },
  {
   "cell_type": "code",
   "execution_count": 21,
   "id": "f42502c8-108d-4750-93c4-c0ff31b2e346",
   "metadata": {
    "tags": []
   },
   "outputs": [],
   "source": [
    "# code defines sets"
   ]
  },
  {
   "cell_type": "markdown",
   "id": "75643730-4845-4471-8845-496975871020",
   "metadata": {},
   "source": [
    "### 5.1.3 - Parameters\n",
    "*Comment the code in the next cell that reads the data described in Section 5 and defines the dictionaries and/or frames used in the model.*"
   ]
  },
  {
   "cell_type": "code",
   "execution_count": 28,
   "id": "2d3cb211-6dfb-470f-873e-79f241a6fb7c",
   "metadata": {
    "tags": []
   },
   "outputs": [],
   "source": [
    "# code that reads the input data files\n",
    "\n",
    "# code that defines the dictionaries and/or frames used in the model. "
   ]
  },
  {
   "cell_type": "markdown",
   "id": "900d99bb-96e2-440b-98a2-f3d23e4f229a",
   "metadata": {
    "tags": []
   },
   "source": [
    "### 5.1.4 - Variables\n",
    "\n",
    "*Comment the code in the next cell that defines the variables of the model.*<br>\n",
    "*Specifically, indicate whether the variables are:*\n",
    "- *Decision variables, i.e., they model the DMs' decisions, or*\n",
    "- *Auxiliary variables, i.e., they are used, for example, to linearize the model objectives/constraints.*<br>\n",
    "*Specify the meaning and the nature (continuous, integer of binary) of each variable.*"
   ]
  },
  {
   "cell_type": "code",
   "execution_count": 29,
   "id": "982286eb-e43d-4745-8218-a34ffb28f464",
   "metadata": {
    "tags": []
   },
   "outputs": [],
   "source": [
    "# code that defines the variables"
   ]
  },
  {
   "cell_type": "markdown",
   "id": "a5c0e162-6479-437d-abf9-57887bc56330",
   "metadata": {
    "tags": []
   },
   "source": [
    "### 5.1.5 - Constraints and Objective(s)\n",
    "*Comment the code in the next cell that defines the objectives and the constraints of the model.*<br>"
   ]
  },
  {
   "cell_type": "code",
   "execution_count": 26,
   "id": "b17af8cd-6da1-496d-ac8b-289e045688d9",
   "metadata": {
    "tags": []
   },
   "outputs": [],
   "source": [
    "# codes that defines the objectives and the constraints of the model."
   ]
  },
  {
   "cell_type": "markdown",
   "id": "7fbe00bb-b1f8-44d6-93fb-a9c0e5420b6e",
   "metadata": {
    "jp-MarkdownHeadingCollapsed": true,
    "tags": []
   },
   "source": [
    "## 5.2 - Model solution\n",
    "*Comment the code in the next cell that calls the functions that solve the model and stores the values of the variables.*"
   ]
  },
  {
   "cell_type": "code",
   "execution_count": 27,
   "id": "60964f84-5217-4dff-863f-43f8f6385ece",
   "metadata": {
    "tags": []
   },
   "outputs": [],
   "source": [
    "# code that calls the functions that solve the model and stores the values of the variables."
   ]
  },
  {
   "cell_type": "markdown",
   "id": "4343fc73-7514-4741-9d20-f191a01e823f",
   "metadata": {
    "tags": []
   },
   "source": [
    "## 5.3 - Analysis\n",
    "*Comment the model solutions and their possible applications in the real world with respect to different scenarios.*\n"
   ]
  }
 ],
 "metadata": {
  "kernelspec": {
   "display_name": "Python 3 (ipykernel)",
   "language": "python",
   "name": "python3"
  },
  "language_info": {
   "codemirror_mode": {
    "name": "ipython",
    "version": 3
   },
   "file_extension": ".py",
   "mimetype": "text/x-python",
   "name": "python",
   "nbconvert_exporter": "python",
   "pygments_lexer": "ipython3",
   "version": "3.11.7"
  }
 },
 "nbformat": 4,
 "nbformat_minor": 5
}
